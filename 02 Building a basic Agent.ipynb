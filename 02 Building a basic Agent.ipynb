{
 "cells": [
  {
   "cell_type": "markdown",
   "id": "3f060816",
   "metadata": {},
   "source": [
    "# Building a basic Agent"
   ]
  },
  {
   "cell_type": "code",
   "execution_count": 4,
   "id": "529fb01f",
   "metadata": {},
   "outputs": [
    {
     "data": {
      "text/plain": [
       "True"
      ]
     },
     "execution_count": 4,
     "metadata": {},
     "output_type": "execute_result"
    }
   ],
   "source": [
    "##import required libraries\n",
    "import autogen\n",
    "import os\n",
    "from dotenv import load_dotenv\n",
    "\n",
    "load_dotenv() # load environment variables from .env file"
   ]
  },
  {
   "cell_type": "code",
   "execution_count": 5,
   "id": "a58bc690",
   "metadata": {},
   "outputs": [],
   "source": [
    "## configuring the LLM\n",
    "llm_config = {\n",
    "    \"model\": \"gpt-4o\",\n",
    "    \"api_key\":os.getenv(\"OPENAI_API_KEY\")\n",
    "}"
   ]
  },
  {
   "cell_type": "code",
   "execution_count": 6,
   "id": "1a5420b1",
   "metadata": {},
   "outputs": [],
   "source": [
    "## import conversable agent from autogen\n",
    "from autogen import ConversableAgent\n",
    "\n",
    "## create a conversable agent\n",
    "agent = ConversableAgent(\n",
    "    name=\"chatbot\",\n",
    "    llm_config=llm_config,\n",
    "    human_input_mode=\"NEVER\",\n",
    ")"
   ]
  },
  {
   "cell_type": "code",
   "execution_count": 8,
   "id": "1a266cce",
   "metadata": {},
   "outputs": [
    {
     "name": "stdout",
     "output_type": "stream",
     "text": [
      "Making delicious ramen at home involves several steps that include preparing the broth, noodles, and toppings. Here’s a basic recipe that you can customize to your liking:\n",
      "\n",
      "### Ingredients:\n",
      "\n",
      "#### Broth:\n",
      "- 4 cups chicken stock (you can use pork or vegetable stock as alternatives)\n",
      "- 2 cups water\n",
      "- 1 piece kombu (dried kelp), about 4 inches square\n",
      "- 1 cup dried shiitake mushrooms\n",
      "- 1 onion, quartered\n",
      "- 2 cloves garlic, smashed\n",
      "- 1-inch piece ginger, sliced\n",
      "- 2 tablespoons soy sauce\n",
      "- 1 tablespoon miso paste (optional for extra flavor)\n",
      "- Salt to taste\n",
      "- Optional: a few slices of dried bonito (katsuobushi) for extra umami\n",
      "\n",
      "#### Noodles:\n",
      "- 2 servings fresh or dried ramen noodles\n",
      "\n",
      "#### Toppings:\n",
      "- 2 boiled eggs, soft or hard-boiled as you prefer\n",
      "- 1 cup sliced green onions\n",
      "- 1 cup corn kernels (fresh or frozen)\n",
      "- 1 cup spinach or bok choy, lightly steamed\n",
      "- Chashu pork slices or grilled chicken (optional)\n",
      "- Nori sheets, cut into strips\n",
      "- Bamboo shoots\n",
      "- Sesame seeds\n",
      "- Sriracha or chili oil, for heat\n",
      "\n",
      "### Instructions:\n",
      "\n",
      "1. **Prepare the Broth:**\n",
      "   - In a large pot, combine the chicken stock, water, kombu, shiitake mushrooms, onion, garlic, and ginger.\n",
      "   - Bring to a simmer over medium heat and let it cook gently for about 30 minutes. Do not let it boil vigorously as this can make the broth cloudy.\n",
      "   - Remove the kombu once it becomes soft and before the broth starts boiling.\n",
      "   - After 30 minutes, strain the broth into another pot or bowl to remove the solids.\n",
      "   - Return the strained broth to the pot and bring to a gentle simmer again.\n",
      "   - Stir in the soy sauce, miso paste, and adjust the salt to taste.\n",
      "   - Optionally, add dried bonito for extra umami and let it steep for a few minutes, then remove.\n",
      "\n",
      "2. **Cook the Noodles:**\n",
      "   - Cook the noodles according to the package instructions. Fresh noodles will take only a few minutes, whereas dried noodles may take a bit longer.\n",
      "   - Drain and rinse the noodles under cold water to stop the cooking process and set aside.\n",
      "\n",
      "3. **Prepare the Toppings:**\n",
      "   - Boil eggs to your desired doneness. For soft-boiled, cook for about 7 minutes. Cool in ice water before peeling.\n",
      "   - Prepare any other toppings you want to use (slice the chashu pork, steam vegetables, etc.).\n",
      "\n",
      "4. **Assemble the Ramen:**\n",
      "   - Divide the cooked noodles into bowls.\n",
      "   - Ladle the hot broth over the noodles.\n",
      "   - Arrange the toppings over the noodles – halved boiled eggs, chashu pork, green onions, corn, spinach, nori strips, and anything else you like.\n",
      "   - Sprinkle sesame seeds and add a bit of sriracha or chili oil if you want some heat.\n",
      "\n",
      "5. **Serve:**\n",
      "   - Serve the ramen immediately while it's hot. Enjoy!\n",
      "\n",
      "### Tips:\n",
      "- **Customize the Broth:** Feel free to experiment with different ingredients to develop a broth flavor you enjoy. Adding kombu and bonito flakes adds umami, while adding miso can increase depth.\n",
      "- **Noodles:** Fresh noodles often yield the best texture and flavor, but dried noodles work in a pinch.\n",
      "- **Toppings:** The variety of toppings you can use is endless. Consider adding pickled ginger, narutomaki (fish cake), or different vegetables depending on your taste.\n",
      "\n",
      "Enjoy making your own delicious bowl of ramen!\n"
     ]
    }
   ],
   "source": [
    "## generating reply from the agent\n",
    "reply = agent.generate_reply(\n",
    "    messages=[{\"content\": \"How to make delicious ramen?\", \"role\": \"user\"}]\n",
    ")\n",
    "print(reply)"
   ]
  },
  {
   "cell_type": "code",
   "execution_count": 9,
   "id": "3a4a7932",
   "metadata": {},
   "outputs": [
    {
     "name": "stdout",
     "output_type": "stream",
     "text": [
      "Setting up a marketing campaign involves several steps, from planning to execution and analysis. Here’s a step-by-step guide to help you set up a successful marketing campaign:\n",
      "\n",
      "1. **Define Clear Objectives and Goals:**\n",
      "   - Identify what you want to achieve with the campaign (e.g., brand awareness, lead generation, sales increase).\n",
      "   - Set SMART goals — Specific, Measurable, Achievable, Relevant, and Time-bound.\n",
      "\n",
      "2. **Understand Your Target Audience:**\n",
      "   - Conduct market research to know your audience’s demographics, interests, needs, and behaviors.\n",
      "   - Create buyer personas to visualize and address the needs of your ideal customers.\n",
      "\n",
      "3. **Analyze Your Market and Competitors:**\n",
      "   - Perform a SWOT analysis (Strengths, Weaknesses, Opportunities, Threats).\n",
      "   - Research your competitors’ strategies and identify any gaps your campaign could fill.\n",
      "\n",
      "4. **Craft Your Message and Value Proposition:**\n",
      "   - Develop a compelling message that resonates with your target audience.\n",
      "   - Highlight your unique value proposition and ensure it differentiates you from competitors.\n",
      "\n",
      "5. **Select the Right Marketing Channels:**\n",
      "   - Choose channels that align with your audience’s preferences (e.g., social media, email, PPC, SEO, content marketing).\n",
      "   - Consider both online and offline marketing channels based on your strategy.\n",
      "\n",
      "6. **Develop Your Budget:**\n",
      "   - Determine how much you’re willing to spend on the campaign.\n",
      "   - Allocate resources effectively across different channels and activities.\n",
      "\n",
      "7. **Create a Detailed Plan:**\n",
      "   - Develop a comprehensive timeline with key milestones, responsibilities, and deadlines.\n",
      "   - Design creative content and materials (e.g., videos, graphics, copy).\n",
      "\n",
      "8. **Implement Marketing Technology:**\n",
      "   - Leverage marketing tools for automation, analytics, customer relationship management (CRM), and more.\n",
      "   - Ensure proper tracking and tagging for data analysis.\n",
      "\n",
      "9. **Execute the Campaign:**\n",
      "   - Launch the campaign by implementing your strategies across chosen platforms.\n",
      "   - Continuously monitor progress to ensure all activities are aligned with the plan.\n",
      "\n",
      "10. **Monitor and Optimize:**\n",
      "    - Track key performance indicators (KPIs) to measure the campaign’s success.\n",
      "    - Use analytics to gain insights into customer behavior and campaign effectiveness.\n",
      "    - Make real-time adjustments based on performance data to improve results.\n",
      "\n",
      "11. **Evaluate the Campaign’s Success:**\n",
      "    - Conduct a post-campaign analysis to review overall performance against your objectives.\n",
      "    - Gather feedback, analyze data, and document lessons learned.\n",
      "    - Generate a report to communicate results to stakeholders.\n",
      "\n",
      "12. **Iterate and Improve:**\n",
      "    - Use insights and lessons from the campaign to refine strategies for future endeavors.\n",
      "    - Adjust techniques, allocate resources more efficiently, and apply new knowledge to upcoming campaigns.\n",
      "\n",
      "By following these steps, you can systematically plan, execute, and evaluate a marketing campaign that meets your business goals and adapts to your audience’s needs.\n"
     ]
    }
   ],
   "source": [
    "reply = agent.generate_reply(\n",
    "    messages=[{\"content\": \"How to set up a marketing campaign?\", \"role\": \"user\"}]\n",
    ")\n",
    "print(reply)"
   ]
  },
  {
   "cell_type": "code",
   "execution_count": null,
   "id": "df30f490",
   "metadata": {},
   "outputs": [],
   "source": []
  }
 ],
 "metadata": {
  "kernelspec": {
   "display_name": "Python 3 (ipykernel)",
   "language": "python",
   "name": "python3"
  },
  "language_info": {
   "codemirror_mode": {
    "name": "ipython",
    "version": 3
   },
   "file_extension": ".py",
   "mimetype": "text/x-python",
   "name": "python",
   "nbconvert_exporter": "python",
   "pygments_lexer": "ipython3",
   "version": "3.11.4"
  }
 },
 "nbformat": 4,
 "nbformat_minor": 5
}
