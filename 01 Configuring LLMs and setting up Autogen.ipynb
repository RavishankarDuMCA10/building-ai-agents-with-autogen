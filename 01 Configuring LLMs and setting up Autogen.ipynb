{
 "cells": [
  {
   "cell_type": "code",
   "execution_count": 1,
   "id": "42fc8720",
   "metadata": {},
   "outputs": [
    {
     "name": "stdout",
     "output_type": "stream",
     "text": [
      "Requirement already satisfied: autogen in /Users/ravishankarkushwaha/anaconda3/lib/python3.11/site-packages (0.9.7)\n",
      "Requirement already satisfied: ag2==0.9.7 in /Users/ravishankarkushwaha/anaconda3/lib/python3.11/site-packages (from autogen) (0.9.7)\n",
      "Requirement already satisfied: anyio<5.0.0,>=3.0.0 in /Users/ravishankarkushwaha/anaconda3/lib/python3.11/site-packages (from ag2==0.9.7->autogen) (3.5.0)\n",
      "Requirement already satisfied: asyncer==0.0.8 in /Users/ravishankarkushwaha/anaconda3/lib/python3.11/site-packages (from ag2==0.9.7->autogen) (0.0.8)\n",
      "Requirement already satisfied: diskcache in /Users/ravishankarkushwaha/anaconda3/lib/python3.11/site-packages (from ag2==0.9.7->autogen) (5.6.3)\n",
      "Requirement already satisfied: docker in /Users/ravishankarkushwaha/anaconda3/lib/python3.11/site-packages (from ag2==0.9.7->autogen) (7.1.0)\n",
      "Requirement already satisfied: httpx<1,>=0.28.1 in /Users/ravishankarkushwaha/anaconda3/lib/python3.11/site-packages (from ag2==0.9.7->autogen) (0.28.1)\n",
      "Requirement already satisfied: packaging in /Users/ravishankarkushwaha/anaconda3/lib/python3.11/site-packages (from ag2==0.9.7->autogen) (23.0)\n",
      "Requirement already satisfied: pydantic<3,>=2.6.1 in /Users/ravishankarkushwaha/anaconda3/lib/python3.11/site-packages (from ag2==0.9.7->autogen) (2.11.7)\n",
      "Requirement already satisfied: python-dotenv in /Users/ravishankarkushwaha/anaconda3/lib/python3.11/site-packages (from ag2==0.9.7->autogen) (1.0.0)\n",
      "Requirement already satisfied: termcolor in /Users/ravishankarkushwaha/anaconda3/lib/python3.11/site-packages (from ag2==0.9.7->autogen) (2.3.0)\n",
      "Requirement already satisfied: tiktoken in /Users/ravishankarkushwaha/anaconda3/lib/python3.11/site-packages (from ag2==0.9.7->autogen) (0.7.0)\n",
      "Requirement already satisfied: idna>=2.8 in /Users/ravishankarkushwaha/anaconda3/lib/python3.11/site-packages (from anyio<5.0.0,>=3.0.0->ag2==0.9.7->autogen) (3.4)\n",
      "Requirement already satisfied: sniffio>=1.1 in /Users/ravishankarkushwaha/anaconda3/lib/python3.11/site-packages (from anyio<5.0.0,>=3.0.0->ag2==0.9.7->autogen) (1.2.0)\n",
      "Requirement already satisfied: certifi in /Users/ravishankarkushwaha/anaconda3/lib/python3.11/site-packages (from httpx<1,>=0.28.1->ag2==0.9.7->autogen) (2023.7.22)\n",
      "Requirement already satisfied: httpcore==1.* in /Users/ravishankarkushwaha/anaconda3/lib/python3.11/site-packages (from httpx<1,>=0.28.1->ag2==0.9.7->autogen) (1.0.5)\n",
      "Requirement already satisfied: h11<0.15,>=0.13 in /Users/ravishankarkushwaha/anaconda3/lib/python3.11/site-packages (from httpcore==1.*->httpx<1,>=0.28.1->ag2==0.9.7->autogen) (0.14.0)\n",
      "Requirement already satisfied: annotated-types>=0.6.0 in /Users/ravishankarkushwaha/anaconda3/lib/python3.11/site-packages (from pydantic<3,>=2.6.1->ag2==0.9.7->autogen) (0.7.0)\n",
      "Requirement already satisfied: pydantic-core==2.33.2 in /Users/ravishankarkushwaha/anaconda3/lib/python3.11/site-packages (from pydantic<3,>=2.6.1->ag2==0.9.7->autogen) (2.33.2)\n",
      "Requirement already satisfied: typing-extensions>=4.12.2 in /Users/ravishankarkushwaha/anaconda3/lib/python3.11/site-packages (from pydantic<3,>=2.6.1->ag2==0.9.7->autogen) (4.14.1)\n",
      "Requirement already satisfied: typing-inspection>=0.4.0 in /Users/ravishankarkushwaha/anaconda3/lib/python3.11/site-packages (from pydantic<3,>=2.6.1->ag2==0.9.7->autogen) (0.4.1)\n",
      "Requirement already satisfied: requests>=2.26.0 in /Users/ravishankarkushwaha/anaconda3/lib/python3.11/site-packages (from docker->ag2==0.9.7->autogen) (2.31.0)\n",
      "Requirement already satisfied: urllib3>=1.26.0 in /Users/ravishankarkushwaha/anaconda3/lib/python3.11/site-packages (from docker->ag2==0.9.7->autogen) (1.26.20)\n",
      "Requirement already satisfied: regex>=2022.1.18 in /Users/ravishankarkushwaha/anaconda3/lib/python3.11/site-packages (from tiktoken->ag2==0.9.7->autogen) (2022.7.9)\n",
      "Requirement already satisfied: charset-normalizer<4,>=2 in /Users/ravishankarkushwaha/anaconda3/lib/python3.11/site-packages (from requests>=2.26.0->docker->ag2==0.9.7->autogen) (2.0.4)\n"
     ]
    }
   ],
   "source": [
    "!pip install autogen"
   ]
  },
  {
   "cell_type": "code",
   "execution_count": 3,
   "id": "428bedca",
   "metadata": {},
   "outputs": [
    {
     "data": {
      "text/plain": [
       "True"
      ]
     },
     "execution_count": 3,
     "metadata": {},
     "output_type": "execute_result"
    }
   ],
   "source": [
    "##import required libraries\n",
    "import autogen\n",
    "import os\n",
    "from dotenv import load_dotenv\n",
    "\n",
    "load_dotenv() # load environment variables from .env file"
   ]
  },
  {
   "cell_type": "code",
   "execution_count": 4,
   "id": "a588af22",
   "metadata": {},
   "outputs": [],
   "source": [
    "## configuring the LLM\n",
    "llm_config = {\n",
    "    \"model\": \"gpt-4o\",\n",
    "    \"api_key\":os.getenv(\"OPENAI_API_KEY\")\n",
    "}"
   ]
  },
  {
   "cell_type": "code",
   "execution_count": 5,
   "id": "3813902f",
   "metadata": {},
   "outputs": [],
   "source": [
    "## if you want to use multiple LLM, use config_list\n",
    "config_list = [\n",
    "    {\"model\": \"gpt-4o\", \"api_key\": os.getenv(\"OPENAI_API_KEY\")},\n",
    "    {\"model\": \"llama-7B\", \"base_url\": \"http://127.0.0.1:8080\", \"tags\": [\"llama\", \"local\"]}\n",
    "]\n",
    "\n",
    "llm_config = {'config_list': config_list}"
   ]
  },
  {
   "cell_type": "code",
   "execution_count": null,
   "id": "bfc10467",
   "metadata": {},
   "outputs": [],
   "source": []
  }
 ],
 "metadata": {
  "kernelspec": {
   "display_name": "Python 3 (ipykernel)",
   "language": "python",
   "name": "python3"
  },
  "language_info": {
   "codemirror_mode": {
    "name": "ipython",
    "version": 3
   },
   "file_extension": ".py",
   "mimetype": "text/x-python",
   "name": "python",
   "nbconvert_exporter": "python",
   "pygments_lexer": "ipython3",
   "version": "3.11.4"
  }
 },
 "nbformat": 4,
 "nbformat_minor": 5
}
