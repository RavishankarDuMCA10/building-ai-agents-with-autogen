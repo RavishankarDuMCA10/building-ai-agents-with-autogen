{
 "cells": [
  {
   "cell_type": "markdown",
   "id": "1e109283",
   "metadata": {},
   "source": [
    "# Add calculator tool to math tutor agent"
   ]
  },
  {
   "cell_type": "code",
   "execution_count": 1,
   "id": "255f6396",
   "metadata": {},
   "outputs": [
    {
     "data": {
      "text/plain": [
       "True"
      ]
     },
     "execution_count": 1,
     "metadata": {},
     "output_type": "execute_result"
    }
   ],
   "source": [
    "## import required libraries\n",
    "import os\n",
    "from autogen import AssistantAgent, ConversableAgent, UserProxyAgent\n",
    "from dotenv import load_dotenv\n",
    "\n",
    "load_dotenv()"
   ]
  },
  {
   "cell_type": "code",
   "execution_count": 5,
   "id": "728f1333",
   "metadata": {},
   "outputs": [],
   "source": [
    "## llm configuration\n",
    "llm_config = {\n",
    "    \"model\": \"gpt-4o\",\n",
    "    \"api_key\": os.getenv(\"OPENAI_API_KEY\")\n",
    "}"
   ]
  },
  {
   "cell_type": "markdown",
   "id": "6a65a261",
   "metadata": {},
   "source": [
    "## Define a calculator tool"
   ]
  },
  {
   "cell_type": "code",
   "execution_count": 3,
   "id": "f1553820",
   "metadata": {},
   "outputs": [],
   "source": [
    "from typing import Annotated, Literal\n",
    "\n",
    "Operator = Literal[\"+\", \"-\", \"*\", \"/\"]\n",
    "\n",
    "def calculator(a:int, b:int, operator: Annotated[Operator, \"operator\"]) -> int:\n",
    "    if operator == \"+\":\n",
    "        return a + b\n",
    "    elif operator == \"-\":\n",
    "        return a - b\n",
    "    elif operator == \"*\":\n",
    "        return a * b\n",
    "    elif operator == \"/\":\n",
    "        return a / b\n",
    "    else:\n",
    "        raise ValueError(\"Invalid operator\")"
   ]
  },
  {
   "cell_type": "markdown",
   "id": "1ce02faf",
   "metadata": {},
   "source": [
    "## Defining a Math tutor agent"
   ]
  },
  {
   "cell_type": "code",
   "execution_count": 6,
   "id": "f9869758",
   "metadata": {},
   "outputs": [],
   "source": [
    "# Let's first define the assistant agent that suggests tool calls\n",
    "assistant = ConversableAgent(\n",
    "    name=\"Assistant\",\n",
    "    system_message=\"You ate a helpful AI assistant. You can help with simple calculations. Return 'TERMINATE' when the task is done.\",\n",
    "    llm_config=llm_config,\n",
    ")"
   ]
  },
  {
   "cell_type": "markdown",
   "id": "f1f244f1",
   "metadata": {},
   "source": [
    "## A user proxy to interact"
   ]
  },
  {
   "cell_type": "code",
   "execution_count": 7,
   "id": "108bd04d",
   "metadata": {},
   "outputs": [],
   "source": [
    "# The user proxy agent is used for interacting with the assistant agent\n",
    "# and executes tool calls.\n",
    "user_proxy = ConversableAgent(\n",
    "    name=\"User\",\n",
    "    llm_config=False,\n",
    "    is_termination_msg=lambda msg: msg.get(\"content\") is not None and \"TERMINATE\" in msg[\"content\"],\n",
    "    human_input_mode=\"NEVER\"\n",
    ")"
   ]
  },
  {
   "cell_type": "markdown",
   "id": "5d4d7bcf",
   "metadata": {},
   "source": [
    "## Registering the tools with the agents"
   ]
  },
  {
   "cell_type": "code",
   "execution_count": 9,
   "id": "2cba2c70",
   "metadata": {},
   "outputs": [
    {
     "data": {
      "text/plain": [
       "<autogen.tools.tool.Tool at 0x16169f5d0>"
      ]
     },
     "execution_count": 9,
     "metadata": {},
     "output_type": "execute_result"
    }
   ],
   "source": [
    "# Register the tools signature with the assistant agent.\n",
    "assistant.register_for_llm(name=\"calculator\", description=\"A simple calculator\")(calculator)\n",
    "\n",
    "# Register the tool function with the user proxy agent.\n",
    "user_proxy.register_for_execution(name=\"calculator\")(calculator)"
   ]
  },
  {
   "cell_type": "markdown",
   "id": "1c99ba2d",
   "metadata": {},
   "source": [
    "## Alternative way for registering tools"
   ]
  },
  {
   "cell_type": "code",
   "execution_count": 11,
   "id": "bf315cd4",
   "metadata": {},
   "outputs": [
    {
     "name": "stderr",
     "output_type": "stream",
     "text": [
      "/Users/ravishankarkushwaha/anaconda3/lib/python3.11/site-packages/autogen/agentchat/conversable_agent.py:3444: UserWarning: Function 'calculator' is being overridden.\n",
      "  warnings.warn(f\"Function '{tool_sig['function']['name']}' is being overridden.\", UserWarning)\n",
      "/Users/ravishankarkushwaha/anaconda3/lib/python3.11/site-packages/autogen/agentchat/conversable_agent.py:3342: UserWarning: Function 'calculator' is being overridden.\n",
      "  warnings.warn(f\"Function '{name}' is being overridden.\", UserWarning)\n"
     ]
    }
   ],
   "source": [
    "from autogen import register_function\n",
    "\n",
    "# Register the calculator function to the two agents.\n",
    "register_function(\n",
    "    calculator,\n",
    "    caller=assistant,      # The assistant agent can suggest calls to the calculator\n",
    "    executor=user_proxy,  # The user proxy agent can execute the calculator calls.\n",
    "    name= \"calculator\",\n",
    "    description=\"A simple Calculator\",\n",
    ")"
   ]
  },
  {
   "cell_type": "markdown",
   "id": "0f48afbc",
   "metadata": {},
   "source": [
    "## Initiate the conversation"
   ]
  },
  {
   "cell_type": "code",
   "execution_count": 13,
   "id": "fb880949",
   "metadata": {},
   "outputs": [
    {
     "name": "stdout",
     "output_type": "stream",
     "text": [
      "\u001b[33mUser\u001b[0m (to Assistant):\n",
      "\n",
      "What is (44232 + 13312 / (232 - 32)) * 5?\n",
      "\n",
      "--------------------------------------------------------------------------------\n",
      "\u001b[31m\n",
      ">>>>>>>> USING AUTO REPLY...\u001b[0m\n",
      "\u001b[33mAssistant\u001b[0m (to User):\n",
      "\n",
      "\u001b[32m***** Suggested tool call (call_GqUzr4esKEzgYwAsnBbgFZhJ): calculator *****\u001b[0m\n",
      "Arguments: \n",
      "{\"a\": 232, \"b\": 32, \"operator\": \"-\"}\n",
      "\u001b[32m***************************************************************************\u001b[0m\n",
      "\u001b[32m***** Suggested tool call (call_mGquBMHcbvJsYeDPsk8zadOl): calculator *****\u001b[0m\n",
      "Arguments: \n",
      "{\"a\": 13312, \"b\": 200, \"operator\": \"/\"}\n",
      "\u001b[32m***************************************************************************\u001b[0m\n",
      "\n",
      "--------------------------------------------------------------------------------\n",
      "\u001b[35m\n",
      ">>>>>>>> EXECUTING FUNCTION calculator...\n",
      "Call ID: call_GqUzr4esKEzgYwAsnBbgFZhJ\n",
      "Input arguments: {'a': 232, 'b': 32, 'operator': '-'}\u001b[0m\n",
      "\u001b[35m\n",
      ">>>>>>>> EXECUTED FUNCTION calculator...\n",
      "Call ID: call_GqUzr4esKEzgYwAsnBbgFZhJ\n",
      "Input arguments: {'a': 232, 'b': 32, 'operator': '-'}\n",
      "Output:\n",
      "200\u001b[0m\n",
      "\u001b[35m\n",
      ">>>>>>>> EXECUTING FUNCTION calculator...\n",
      "Call ID: call_mGquBMHcbvJsYeDPsk8zadOl\n",
      "Input arguments: {'a': 13312, 'b': 200, 'operator': '/'}\u001b[0m\n",
      "\u001b[35m\n",
      ">>>>>>>> EXECUTED FUNCTION calculator...\n",
      "Call ID: call_mGquBMHcbvJsYeDPsk8zadOl\n",
      "Input arguments: {'a': 13312, 'b': 200, 'operator': '/'}\n",
      "Output:\n",
      "66.56\u001b[0m\n",
      "\u001b[33mUser\u001b[0m (to Assistant):\n",
      "\n",
      "\u001b[32m***** Response from calling tool (call_GqUzr4esKEzgYwAsnBbgFZhJ) *****\u001b[0m\n",
      "200\n",
      "\u001b[32m**********************************************************************\u001b[0m\n",
      "\n",
      "--------------------------------------------------------------------------------\n",
      "\u001b[32m***** Response from calling tool (call_mGquBMHcbvJsYeDPsk8zadOl) *****\u001b[0m\n",
      "66.56\n",
      "\u001b[32m**********************************************************************\u001b[0m\n",
      "\n",
      "--------------------------------------------------------------------------------\n",
      "\u001b[31m\n",
      ">>>>>>>> USING AUTO REPLY...\u001b[0m\n",
      "\u001b[33mAssistant\u001b[0m (to User):\n",
      "\n",
      "\u001b[32m***** Suggested tool call (call_ad7ZPxhDY73POmc5Lmrg9y1o): calculator *****\u001b[0m\n",
      "Arguments: \n",
      "{\"a\": 44232, \"b\": 66.56, \"operator\": \"+\"}\n",
      "\u001b[32m***************************************************************************\u001b[0m\n",
      "\u001b[32m***** Suggested tool call (call_AyCtLZWtOO3kgwvHOY3IM1cw): calculator *****\u001b[0m\n",
      "Arguments: \n",
      "{\"a\": 44232, \"b\": 66.56, \"operator\": \"+\"}\n",
      "\u001b[32m***************************************************************************\u001b[0m\n",
      "\n",
      "--------------------------------------------------------------------------------\n",
      "\u001b[35m\n",
      ">>>>>>>> EXECUTING FUNCTION calculator...\n",
      "Call ID: call_ad7ZPxhDY73POmc5Lmrg9y1o\n",
      "Input arguments: {'a': 44232, 'b': 66.56, 'operator': '+'}\u001b[0m\n",
      "\u001b[35m\n",
      ">>>>>>>> EXECUTED FUNCTION calculator...\n",
      "Call ID: call_ad7ZPxhDY73POmc5Lmrg9y1o\n",
      "Input arguments: {'a': 44232, 'b': 66.56, 'operator': '+'}\n",
      "Output:\n",
      "Error: 1 validation error for calculator\n",
      "b\n",
      "  Input should be a valid integer, got a number with a fractional part [type=int_from_float, input_value=66.56, input_type=float]\n",
      "    For further information visit https://errors.pydantic.dev/2.11/v/int_from_float\u001b[0m\n",
      "\u001b[35m\n",
      ">>>>>>>> EXECUTING FUNCTION calculator...\n",
      "Call ID: call_AyCtLZWtOO3kgwvHOY3IM1cw\n",
      "Input arguments: {'a': 44232, 'b': 66.56, 'operator': '+'}\u001b[0m\n",
      "\u001b[35m\n",
      ">>>>>>>> EXECUTED FUNCTION calculator...\n",
      "Call ID: call_AyCtLZWtOO3kgwvHOY3IM1cw\n",
      "Input arguments: {'a': 44232, 'b': 66.56, 'operator': '+'}\n",
      "Output:\n",
      "Error: 1 validation error for calculator\n",
      "b\n",
      "  Input should be a valid integer, got a number with a fractional part [type=int_from_float, input_value=66.56, input_type=float]\n",
      "    For further information visit https://errors.pydantic.dev/2.11/v/int_from_float\u001b[0m\n",
      "\u001b[33mUser\u001b[0m (to Assistant):\n",
      "\n",
      "\u001b[32m***** Response from calling tool (call_ad7ZPxhDY73POmc5Lmrg9y1o) *****\u001b[0m\n",
      "Error: 1 validation error for calculator\n",
      "b\n",
      "  Input should be a valid integer, got a number with a fractional part [type=int_from_float, input_value=66.56, input_type=float]\n",
      "    For further information visit https://errors.pydantic.dev/2.11/v/int_from_float\n",
      "\u001b[32m**********************************************************************\u001b[0m\n",
      "\n",
      "--------------------------------------------------------------------------------\n",
      "\u001b[32m***** Response from calling tool (call_AyCtLZWtOO3kgwvHOY3IM1cw) *****\u001b[0m\n",
      "Error: 1 validation error for calculator\n",
      "b\n",
      "  Input should be a valid integer, got a number with a fractional part [type=int_from_float, input_value=66.56, input_type=float]\n",
      "    For further information visit https://errors.pydantic.dev/2.11/v/int_from_float\n",
      "\u001b[32m**********************************************************************\u001b[0m\n",
      "\n",
      "--------------------------------------------------------------------------------\n",
      "\u001b[31m\n",
      ">>>>>>>> USING AUTO REPLY...\u001b[0m\n",
      "\u001b[33mAssistant\u001b[0m (to User):\n",
      "\n",
      "It seems I ran into a problem because I attempted to process a fractional number as an integer. Let me fix this by handling the fractional part appropriately.\n",
      "\n",
      "First, let's round or convert the result of division to an integer, then proceed:\n",
      "\n",
      "\\[\n",
      "44232 + \\text{(rounded value of } 13312 / (232 - 32) \\text{)} \\times 5\n",
      "\\]\n",
      "\n",
      "Here's what we'll do:\n",
      "\n",
      "- Round 66.56 to 67 and then continue with the calculation.\n",
      "\u001b[32m***** Suggested tool call (call_eYwnweqOr2fKhXDrgxeuejm0): calculator *****\u001b[0m\n",
      "Arguments: \n",
      "{\"a\":44232,\"b\":67,\"operator\":\"+\"}\n",
      "\u001b[32m***************************************************************************\u001b[0m\n",
      "\n",
      "--------------------------------------------------------------------------------\n",
      "\u001b[35m\n",
      ">>>>>>>> EXECUTING FUNCTION calculator...\n",
      "Call ID: call_eYwnweqOr2fKhXDrgxeuejm0\n",
      "Input arguments: {'a': 44232, 'b': 67, 'operator': '+'}\u001b[0m\n",
      "\u001b[35m\n",
      ">>>>>>>> EXECUTED FUNCTION calculator...\n",
      "Call ID: call_eYwnweqOr2fKhXDrgxeuejm0\n",
      "Input arguments: {'a': 44232, 'b': 67, 'operator': '+'}\n",
      "Output:\n",
      "44299\u001b[0m\n",
      "\u001b[33mUser\u001b[0m (to Assistant):\n",
      "\n",
      "\u001b[32m***** Response from calling tool (call_eYwnweqOr2fKhXDrgxeuejm0) *****\u001b[0m\n",
      "44299\n",
      "\u001b[32m**********************************************************************\u001b[0m\n",
      "\n",
      "--------------------------------------------------------------------------------\n",
      "\u001b[31m\n",
      ">>>>>>>> USING AUTO REPLY...\u001b[0m\n",
      "\u001b[33mAssistant\u001b[0m (to User):\n",
      "\n",
      "\u001b[32m***** Suggested tool call (call_Y6Sl421onl1ZQVbgtaL26dJZ): calculator *****\u001b[0m\n",
      "Arguments: \n",
      "{\"a\":44299,\"b\":5,\"operator\":\"*\"}\n",
      "\u001b[32m***************************************************************************\u001b[0m\n",
      "\n",
      "--------------------------------------------------------------------------------\n",
      "\u001b[35m\n",
      ">>>>>>>> EXECUTING FUNCTION calculator...\n",
      "Call ID: call_Y6Sl421onl1ZQVbgtaL26dJZ\n",
      "Input arguments: {'a': 44299, 'b': 5, 'operator': '*'}\u001b[0m\n",
      "\u001b[35m\n",
      ">>>>>>>> EXECUTED FUNCTION calculator...\n",
      "Call ID: call_Y6Sl421onl1ZQVbgtaL26dJZ\n",
      "Input arguments: {'a': 44299, 'b': 5, 'operator': '*'}\n",
      "Output:\n",
      "221495\u001b[0m\n",
      "\u001b[33mUser\u001b[0m (to Assistant):\n",
      "\n",
      "\u001b[32m***** Response from calling tool (call_Y6Sl421onl1ZQVbgtaL26dJZ) *****\u001b[0m\n",
      "221495\n",
      "\u001b[32m**********************************************************************\u001b[0m\n",
      "\n",
      "--------------------------------------------------------------------------------\n",
      "\u001b[31m\n",
      ">>>>>>>> USING AUTO REPLY...\u001b[0m\n",
      "\u001b[33mAssistant\u001b[0m (to User):\n",
      "\n",
      "The result of \\((44232 + 13312 / (232 - 32)) \\times 5\\) is approximately 221495. \n",
      "\n",
      "TERMINATE\n",
      "\n",
      "--------------------------------------------------------------------------------\n",
      "\u001b[31m\n",
      ">>>>>>>> TERMINATING RUN (1db0b954-ad27-4be5-be06-2737f9d75546): Termination message condition on agent 'User' met\u001b[0m\n"
     ]
    }
   ],
   "source": [
    "chat_result = user_proxy.initiate_chat(assistant, message=\"What is (44232 + 13312 / (232 - 32)) * 5?\")"
   ]
  },
  {
   "cell_type": "code",
   "execution_count": null,
   "id": "3f6b1b4e",
   "metadata": {},
   "outputs": [],
   "source": []
  }
 ],
 "metadata": {
  "kernelspec": {
   "display_name": "Python 3 (ipykernel)",
   "language": "python",
   "name": "python3"
  },
  "language_info": {
   "codemirror_mode": {
    "name": "ipython",
    "version": 3
   },
   "file_extension": ".py",
   "mimetype": "text/x-python",
   "name": "python",
   "nbconvert_exporter": "python",
   "pygments_lexer": "ipython3",
   "version": "3.11.4"
  }
 },
 "nbformat": 4,
 "nbformat_minor": 5
}
