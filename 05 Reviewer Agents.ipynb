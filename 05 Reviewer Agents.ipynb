{
 "cells": [
  {
   "cell_type": "markdown",
   "id": "5bdd86eb",
   "metadata": {},
   "source": [
    "## Creating agents"
   ]
  },
  {
   "cell_type": "code",
   "execution_count": 1,
   "id": "41c56d48",
   "metadata": {},
   "outputs": [
    {
     "data": {
      "text/plain": [
       "True"
      ]
     },
     "execution_count": 1,
     "metadata": {},
     "output_type": "execute_result"
    }
   ],
   "source": [
    "## import required libraries\n",
    "import os\n",
    "from autogen import AssistantAgent, ConversableAgent, UserProxyAgent\n",
    "from dotenv import load_dotenv\n",
    "\n",
    "load_dotenv(override=True)"
   ]
  },
  {
   "cell_type": "code",
   "execution_count": 2,
   "id": "cebd1003",
   "metadata": {},
   "outputs": [],
   "source": [
    "## llm configuration\n",
    "llm_config = {\n",
    "    \"model\": \"gpt-4o\",\n",
    "    \"api_key\": os.getenv(\"OPENAI_API_KEY\")\n",
    "}"
   ]
  },
  {
   "cell_type": "markdown",
   "id": "254225d7",
   "metadata": {},
   "source": [
    "## Writer Agent"
   ]
  },
  {
   "cell_type": "code",
   "execution_count": 3,
   "id": "9fa43037",
   "metadata": {},
   "outputs": [],
   "source": [
    "writer = AssistantAgent(\n",
    "    name=\"Writer\",\n",
    "    system_message=\"\"\"You are a writer. You write engaging and concise blogpost (with title) on given topics.\n",
    "    You must polish your writting based on the feedback you receive and give a refined version.\n",
    "    Only return your final work without additional comments.\n",
    "    \"\"\",\n",
    "    llm_config=llm_config,\n",
    ")"
   ]
  },
  {
   "cell_type": "markdown",
   "id": "95d1ec9d",
   "metadata": {},
   "source": [
    "## Task"
   ]
  },
  {
   "cell_type": "code",
   "execution_count": 4,
   "id": "891a3ec6",
   "metadata": {},
   "outputs": [],
   "source": [
    "task = 'Write a concise but engaging blogpost about GPUs. Make sure the blogpost is within 100 words.'"
   ]
  },
  {
   "cell_type": "code",
   "execution_count": 5,
   "id": "bbd5e92e",
   "metadata": {},
   "outputs": [],
   "source": [
    "reply = writer.generate_reply(messages=[{\"content\": task, \"role\": \"user\"}])"
   ]
  },
  {
   "cell_type": "code",
   "execution_count": 6,
   "id": "d0e6e965",
   "metadata": {},
   "outputs": [
    {
     "name": "stdout",
     "output_type": "stream",
     "text": [
      "**Unleashing Power: The Role of GPUs in Modern Technology**\n",
      "\n",
      "Graphics Processing Units (GPUs) have transcended their gaming origins to become pivotal in various tech domains. These powerful processors, adept at parallel computing, are instrumental in accelerating workloads related to AI, machine learning, and data analysis. With their ability to handle complex calculations efficiently, GPUs are revolutionizing fields like scientific research, cryptocurrency mining, and even autonomous driving. Their influence is expanding, propelling innovations that are reshaping our digital landscape. As technology advances, GPUs continue to redefine possibilities, driving performance and capability beyond traditional boundaries in computing.\n"
     ]
    }
   ],
   "source": [
    "print(reply)"
   ]
  },
  {
   "cell_type": "markdown",
   "id": "66e17548",
   "metadata": {},
   "source": [
    "## Simple review of the post"
   ]
  },
  {
   "cell_type": "code",
   "execution_count": 7,
   "id": "b580b92f",
   "metadata": {},
   "outputs": [],
   "source": [
    "## reviewer agent\n",
    "reviewer = AssistantAgent(\n",
    "    name=\"Reviewer\",\n",
    "    is_termination_msg=lambda x:x.get(\"content\", \"\").find(\"TERMINATE\") >= 0,\n",
    "    llm_config=llm_config,\n",
    "    system_message=\"\"\"You are a reviewer. you review the work of\n",
    "                    the writer and provide constructive feedback to help imporve the quality of the content.\n",
    "    \"\"\",\n",
    ")"
   ]
  },
  {
   "cell_type": "code",
   "execution_count": 8,
   "id": "e9149cac",
   "metadata": {},
   "outputs": [
    {
     "name": "stdout",
     "output_type": "stream",
     "text": [
      "\u001b[33mReviewer\u001b[0m (to Writer):\n",
      "\n",
      "Write a concise but engaging blogpost about GPUs. Make sure the blogpost is within 100 words.\n",
      "\n",
      "--------------------------------------------------------------------------------\n",
      "\u001b[33mWriter\u001b[0m (to Reviewer):\n",
      "\n",
      "**Unlocking the Power of GPUs: Revolutionizing Technology**\n",
      "\n",
      "Graphics Processing Units (GPUs) have transcended their initial role in rendering graphics to fuel advancements across diverse fields. These powerhouse processors excel at parallel computing, making them indispensable in gaming, AI, scientific computing, and cryptocurrency mining. With their superior capability in handling massive datasets simultaneously, GPUs accelerate machine learning algorithms, enabling breakthroughs in facial recognition, natural language processing, and autonomous vehicles. Innovators turn to GPUs for their versatility and efficiency, pushing boundaries and transforming everyday technology. As GPU technology evolves, it paves the way for more immersive experiences and groundbreaking innovations, shaping our digital future.\n",
      "\n",
      "--------------------------------------------------------------------------------\n",
      "\u001b[33mReviewer\u001b[0m (to Writer):\n",
      "\n",
      "Your blog post offers a great overview of the evolving role of GPUs (Graphics Processing Units) and their significant impact across various industries. Here are some suggestions to enhance the content:\n",
      "\n",
      "1. **Specific Examples:** Consider including a couple of specific examples or popular applications of GPUs in gaming or AI to make the piece more relatable and vivid for the reader.\n",
      "\n",
      "2. **Personal Engagement:** Add a compelling opening question or statement to immediately hook your audience. For example, \"Ever wondered how your video games achieve such stunning graphics?\" This can draw in readers by appealing directly to their curiosity.\n",
      "\n",
      "3. **Simplifying Language:** While terms like \"natural language processing\" are important, a very brief explanation or a simplified phrase could help reach a broader audience. For example, \"help computers understand human language.\"\n",
      "\n",
      "4. **Future Outlook:** You could end with a forward-looking statement or a call to action that invites readers to envision or explore the future potential of GPUs, making the conclusion feel more engaging and closing the piece on an inspiring note.\n",
      "\n",
      "Overall, you're off to a great start! These tweaks could make the blog post even more inviting and informative for readers.\n",
      "\n",
      "--------------------------------------------------------------------------------\n",
      "\u001b[33mWriter\u001b[0m (to Reviewer):\n",
      "\n",
      "**Unleashing the Power of GPUs: Shaping Our Digital World**\n",
      "\n",
      "Ever wondered how video games achieve such stunning graphics or how AI interprets our voices? Enter the Graphics Processing Unit (GPU). Once solely used for rendering graphics, GPUs now power diverse fields with their high-speed parallel computing abilities. They’re crucial in gaming, enabling breathtaking visuals, and in AI, helping computers recognize faces or understand human language. From self-driving cars to cryptocurrencies, GPUs are the unseen engines of innovation. As technology advances, GPUs will drive even more incredible breakthroughs, turning imaginative possibilities into everyday reality and reshaping our digital experiences.\n",
      "\n",
      "--------------------------------------------------------------------------------\n",
      "\u001b[31m\n",
      ">>>>>>>> TERMINATING RUN (522a6ebb-0342-4c47-b796-578fe5e7e8d5): Maximum turns (2) reached\u001b[0m\n"
     ]
    }
   ],
   "source": [
    "res = reviewer.initiate_chat(\n",
    "    recipient=writer,\n",
    "    message=task,\n",
    "    max_turns=2,\n",
    "    summary_method=\"last_msg\"\n",
    ")"
   ]
  },
  {
   "cell_type": "code",
   "execution_count": null,
   "id": "1d4b63c0",
   "metadata": {},
   "outputs": [],
   "source": []
  }
 ],
 "metadata": {
  "kernelspec": {
   "display_name": "Python 3 (ipykernel)",
   "language": "python",
   "name": "python3"
  },
  "language_info": {
   "codemirror_mode": {
    "name": "ipython",
    "version": 3
   },
   "file_extension": ".py",
   "mimetype": "text/x-python",
   "name": "python",
   "nbconvert_exporter": "python",
   "pygments_lexer": "ipython3",
   "version": "3.11.4"
  }
 },
 "nbformat": 4,
 "nbformat_minor": 5
}
