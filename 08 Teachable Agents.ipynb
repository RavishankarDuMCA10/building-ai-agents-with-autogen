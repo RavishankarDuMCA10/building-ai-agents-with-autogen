{
 "cells": [
  {
   "cell_type": "markdown",
   "id": "4d8ec1ef",
   "metadata": {},
   "source": [
    "# Teachable Agents"
   ]
  },
  {
   "cell_type": "code",
   "execution_count": 1,
   "id": "9679bdec",
   "metadata": {},
   "outputs": [
    {
     "name": "stdout",
     "output_type": "stream",
     "text": [
      "Requirement already satisfied: ag2[teachable] in /Users/ravishankarkushwaha/anaconda3/lib/python3.11/site-packages (0.9.7)\n",
      "Requirement already satisfied: anyio<5.0.0,>=3.0.0 in /Users/ravishankarkushwaha/anaconda3/lib/python3.11/site-packages (from ag2[teachable]) (3.5.0)\n",
      "Requirement already satisfied: asyncer==0.0.8 in /Users/ravishankarkushwaha/anaconda3/lib/python3.11/site-packages (from ag2[teachable]) (0.0.8)\n",
      "Requirement already satisfied: diskcache in /Users/ravishankarkushwaha/anaconda3/lib/python3.11/site-packages (from ag2[teachable]) (5.6.3)\n",
      "Requirement already satisfied: docker in /Users/ravishankarkushwaha/anaconda3/lib/python3.11/site-packages (from ag2[teachable]) (7.1.0)\n",
      "Requirement already satisfied: httpx<1,>=0.28.1 in /Users/ravishankarkushwaha/anaconda3/lib/python3.11/site-packages (from ag2[teachable]) (0.28.1)\n",
      "Requirement already satisfied: packaging in /Users/ravishankarkushwaha/anaconda3/lib/python3.11/site-packages (from ag2[teachable]) (23.0)\n",
      "Requirement already satisfied: pydantic<3,>=2.6.1 in /Users/ravishankarkushwaha/anaconda3/lib/python3.11/site-packages (from ag2[teachable]) (2.11.7)\n",
      "Requirement already satisfied: python-dotenv in /Users/ravishankarkushwaha/anaconda3/lib/python3.11/site-packages (from ag2[teachable]) (1.0.0)\n",
      "Requirement already satisfied: termcolor in /Users/ravishankarkushwaha/anaconda3/lib/python3.11/site-packages (from ag2[teachable]) (2.3.0)\n",
      "Requirement already satisfied: tiktoken in /Users/ravishankarkushwaha/anaconda3/lib/python3.11/site-packages (from ag2[teachable]) (0.7.0)\n",
      "Requirement already satisfied: chromadb in /Users/ravishankarkushwaha/anaconda3/lib/python3.11/site-packages (from ag2[teachable]) (1.0.16)\n",
      "Requirement already satisfied: idna>=2.8 in /Users/ravishankarkushwaha/anaconda3/lib/python3.11/site-packages (from anyio<5.0.0,>=3.0.0->ag2[teachable]) (3.4)\n",
      "Requirement already satisfied: sniffio>=1.1 in /Users/ravishankarkushwaha/anaconda3/lib/python3.11/site-packages (from anyio<5.0.0,>=3.0.0->ag2[teachable]) (1.2.0)\n",
      "Requirement already satisfied: certifi in /Users/ravishankarkushwaha/anaconda3/lib/python3.11/site-packages (from httpx<1,>=0.28.1->ag2[teachable]) (2025.8.3)\n",
      "Requirement already satisfied: httpcore==1.* in /Users/ravishankarkushwaha/anaconda3/lib/python3.11/site-packages (from httpx<1,>=0.28.1->ag2[teachable]) (1.0.5)\n",
      "Requirement already satisfied: h11<0.15,>=0.13 in /Users/ravishankarkushwaha/anaconda3/lib/python3.11/site-packages (from httpcore==1.*->httpx<1,>=0.28.1->ag2[teachable]) (0.14.0)\n",
      "Requirement already satisfied: annotated-types>=0.6.0 in /Users/ravishankarkushwaha/anaconda3/lib/python3.11/site-packages (from pydantic<3,>=2.6.1->ag2[teachable]) (0.7.0)\n",
      "Requirement already satisfied: pydantic-core==2.33.2 in /Users/ravishankarkushwaha/anaconda3/lib/python3.11/site-packages (from pydantic<3,>=2.6.1->ag2[teachable]) (2.33.2)\n",
      "Requirement already satisfied: typing-extensions>=4.12.2 in /Users/ravishankarkushwaha/anaconda3/lib/python3.11/site-packages (from pydantic<3,>=2.6.1->ag2[teachable]) (4.14.1)\n",
      "Requirement already satisfied: typing-inspection>=0.4.0 in /Users/ravishankarkushwaha/anaconda3/lib/python3.11/site-packages (from pydantic<3,>=2.6.1->ag2[teachable]) (0.4.1)\n",
      "Requirement already satisfied: build>=1.0.3 in /Users/ravishankarkushwaha/anaconda3/lib/python3.11/site-packages (from chromadb->ag2[teachable]) (1.3.0)\n",
      "Requirement already satisfied: pybase64>=1.4.1 in /Users/ravishankarkushwaha/anaconda3/lib/python3.11/site-packages (from chromadb->ag2[teachable]) (1.4.2)\n",
      "Requirement already satisfied: uvicorn[standard]>=0.18.3 in /Users/ravishankarkushwaha/anaconda3/lib/python3.11/site-packages (from chromadb->ag2[teachable]) (0.35.0)\n",
      "Requirement already satisfied: numpy>=1.22.5 in /Users/ravishankarkushwaha/anaconda3/lib/python3.11/site-packages (from chromadb->ag2[teachable]) (1.24.4)\n",
      "Requirement already satisfied: posthog<6.0.0,>=2.4.0 in /Users/ravishankarkushwaha/anaconda3/lib/python3.11/site-packages (from chromadb->ag2[teachable]) (5.4.0)\n",
      "Requirement already satisfied: onnxruntime>=1.14.1 in /Users/ravishankarkushwaha/anaconda3/lib/python3.11/site-packages (from chromadb->ag2[teachable]) (1.22.1)\n",
      "Requirement already satisfied: opentelemetry-api>=1.2.0 in /Users/ravishankarkushwaha/anaconda3/lib/python3.11/site-packages (from chromadb->ag2[teachable]) (1.36.0)\n",
      "Requirement already satisfied: opentelemetry-exporter-otlp-proto-grpc>=1.2.0 in /Users/ravishankarkushwaha/anaconda3/lib/python3.11/site-packages (from chromadb->ag2[teachable]) (1.36.0)\n",
      "Requirement already satisfied: opentelemetry-sdk>=1.2.0 in /Users/ravishankarkushwaha/anaconda3/lib/python3.11/site-packages (from chromadb->ag2[teachable]) (1.36.0)\n",
      "Requirement already satisfied: tokenizers>=0.13.2 in /Users/ravishankarkushwaha/anaconda3/lib/python3.11/site-packages (from chromadb->ag2[teachable]) (0.13.2)\n",
      "Requirement already satisfied: pypika>=0.48.9 in /Users/ravishankarkushwaha/anaconda3/lib/python3.11/site-packages (from chromadb->ag2[teachable]) (0.48.9)\n",
      "Requirement already satisfied: tqdm>=4.65.0 in /Users/ravishankarkushwaha/anaconda3/lib/python3.11/site-packages (from chromadb->ag2[teachable]) (4.66.5)\n",
      "Requirement already satisfied: overrides>=7.3.1 in /Users/ravishankarkushwaha/anaconda3/lib/python3.11/site-packages (from chromadb->ag2[teachable]) (7.7.0)\n",
      "Requirement already satisfied: importlib-resources in /Users/ravishankarkushwaha/anaconda3/lib/python3.11/site-packages (from chromadb->ag2[teachable]) (6.5.2)\n",
      "Requirement already satisfied: grpcio>=1.58.0 in /Users/ravishankarkushwaha/anaconda3/lib/python3.11/site-packages (from chromadb->ag2[teachable]) (1.74.0)\n",
      "Requirement already satisfied: bcrypt>=4.0.1 in /Users/ravishankarkushwaha/anaconda3/lib/python3.11/site-packages (from chromadb->ag2[teachable]) (4.3.0)\n",
      "Requirement already satisfied: typer>=0.9.0 in /Users/ravishankarkushwaha/anaconda3/lib/python3.11/site-packages (from chromadb->ag2[teachable]) (0.15.1)\n",
      "Requirement already satisfied: kubernetes>=28.1.0 in /Users/ravishankarkushwaha/anaconda3/lib/python3.11/site-packages (from chromadb->ag2[teachable]) (33.1.0)\n",
      "Requirement already satisfied: tenacity>=8.2.3 in /Users/ravishankarkushwaha/anaconda3/lib/python3.11/site-packages (from chromadb->ag2[teachable]) (8.5.0)\n",
      "Requirement already satisfied: pyyaml>=6.0.0 in /Users/ravishankarkushwaha/anaconda3/lib/python3.11/site-packages (from chromadb->ag2[teachable]) (6.0.2)\n",
      "Requirement already satisfied: mmh3>=4.0.1 in /Users/ravishankarkushwaha/anaconda3/lib/python3.11/site-packages (from chromadb->ag2[teachable]) (5.2.0)\n",
      "Requirement already satisfied: orjson>=3.9.12 in /Users/ravishankarkushwaha/anaconda3/lib/python3.11/site-packages (from chromadb->ag2[teachable]) (3.11.1)\n",
      "Requirement already satisfied: rich>=10.11.0 in /Users/ravishankarkushwaha/anaconda3/lib/python3.11/site-packages (from chromadb->ag2[teachable]) (13.9.2)\n",
      "Requirement already satisfied: jsonschema>=4.19.0 in /Users/ravishankarkushwaha/anaconda3/lib/python3.11/site-packages (from chromadb->ag2[teachable]) (4.25.0)\n",
      "Requirement already satisfied: requests>=2.26.0 in /Users/ravishankarkushwaha/anaconda3/lib/python3.11/site-packages (from docker->ag2[teachable]) (2.32.4)\n",
      "Requirement already satisfied: urllib3>=1.26.0 in /Users/ravishankarkushwaha/anaconda3/lib/python3.11/site-packages (from docker->ag2[teachable]) (1.26.20)\n",
      "Requirement already satisfied: regex>=2022.1.18 in /Users/ravishankarkushwaha/anaconda3/lib/python3.11/site-packages (from tiktoken->ag2[teachable]) (2022.7.9)\n",
      "Requirement already satisfied: pyproject_hooks in /Users/ravishankarkushwaha/anaconda3/lib/python3.11/site-packages (from build>=1.0.3->chromadb->ag2[teachable]) (1.2.0)\n",
      "Requirement already satisfied: attrs>=22.2.0 in /Users/ravishankarkushwaha/anaconda3/lib/python3.11/site-packages (from jsonschema>=4.19.0->chromadb->ag2[teachable]) (25.3.0)\n",
      "Requirement already satisfied: jsonschema-specifications>=2023.03.6 in /Users/ravishankarkushwaha/anaconda3/lib/python3.11/site-packages (from jsonschema>=4.19.0->chromadb->ag2[teachable]) (2025.4.1)\n",
      "Requirement already satisfied: referencing>=0.28.4 in /Users/ravishankarkushwaha/anaconda3/lib/python3.11/site-packages (from jsonschema>=4.19.0->chromadb->ag2[teachable]) (0.36.2)\n",
      "Requirement already satisfied: rpds-py>=0.7.1 in /Users/ravishankarkushwaha/anaconda3/lib/python3.11/site-packages (from jsonschema>=4.19.0->chromadb->ag2[teachable]) (0.27.0)\n",
      "Requirement already satisfied: six>=1.9.0 in /Users/ravishankarkushwaha/anaconda3/lib/python3.11/site-packages (from kubernetes>=28.1.0->chromadb->ag2[teachable]) (1.16.0)\n",
      "Requirement already satisfied: python-dateutil>=2.5.3 in /Users/ravishankarkushwaha/anaconda3/lib/python3.11/site-packages (from kubernetes>=28.1.0->chromadb->ag2[teachable]) (2.8.2)\n",
      "Requirement already satisfied: google-auth>=1.0.1 in /Users/ravishankarkushwaha/anaconda3/lib/python3.11/site-packages (from kubernetes>=28.1.0->chromadb->ag2[teachable]) (2.22.0)\n",
      "Requirement already satisfied: websocket-client!=0.40.0,!=0.41.*,!=0.42.*,>=0.32.0 in /Users/ravishankarkushwaha/anaconda3/lib/python3.11/site-packages (from kubernetes>=28.1.0->chromadb->ag2[teachable]) (1.6.3)\n",
      "Requirement already satisfied: requests-oauthlib in /Users/ravishankarkushwaha/anaconda3/lib/python3.11/site-packages (from kubernetes>=28.1.0->chromadb->ag2[teachable]) (1.3.1)\n",
      "Requirement already satisfied: oauthlib>=3.2.2 in /Users/ravishankarkushwaha/anaconda3/lib/python3.11/site-packages (from kubernetes>=28.1.0->chromadb->ag2[teachable]) (3.2.2)\n",
      "Requirement already satisfied: durationpy>=0.7 in /Users/ravishankarkushwaha/anaconda3/lib/python3.11/site-packages (from kubernetes>=28.1.0->chromadb->ag2[teachable]) (0.10)\n"
     ]
    },
    {
     "name": "stdout",
     "output_type": "stream",
     "text": [
      "Requirement already satisfied: coloredlogs in /Users/ravishankarkushwaha/anaconda3/lib/python3.11/site-packages (from onnxruntime>=1.14.1->chromadb->ag2[teachable]) (15.0.1)\n",
      "Requirement already satisfied: flatbuffers in /Users/ravishankarkushwaha/anaconda3/lib/python3.11/site-packages (from onnxruntime>=1.14.1->chromadb->ag2[teachable]) (23.5.26)\n",
      "Requirement already satisfied: protobuf in /Users/ravishankarkushwaha/anaconda3/lib/python3.11/site-packages (from onnxruntime>=1.14.1->chromadb->ag2[teachable]) (5.29.5)\n",
      "Requirement already satisfied: sympy in /Users/ravishankarkushwaha/anaconda3/lib/python3.11/site-packages (from onnxruntime>=1.14.1->chromadb->ag2[teachable]) (1.11.1)\n",
      "Requirement already satisfied: importlib-metadata<8.8.0,>=6.0 in /Users/ravishankarkushwaha/anaconda3/lib/python3.11/site-packages (from opentelemetry-api>=1.2.0->chromadb->ag2[teachable]) (6.0.0)\n",
      "Requirement already satisfied: googleapis-common-protos~=1.57 in /Users/ravishankarkushwaha/anaconda3/lib/python3.11/site-packages (from opentelemetry-exporter-otlp-proto-grpc>=1.2.0->chromadb->ag2[teachable]) (1.70.0)\n",
      "Requirement already satisfied: opentelemetry-exporter-otlp-proto-common==1.36.0 in /Users/ravishankarkushwaha/anaconda3/lib/python3.11/site-packages (from opentelemetry-exporter-otlp-proto-grpc>=1.2.0->chromadb->ag2[teachable]) (1.36.0)\n",
      "Requirement already satisfied: opentelemetry-proto==1.36.0 in /Users/ravishankarkushwaha/anaconda3/lib/python3.11/site-packages (from opentelemetry-exporter-otlp-proto-grpc>=1.2.0->chromadb->ag2[teachable]) (1.36.0)\n",
      "Requirement already satisfied: opentelemetry-semantic-conventions==0.57b0 in /Users/ravishankarkushwaha/anaconda3/lib/python3.11/site-packages (from opentelemetry-sdk>=1.2.0->chromadb->ag2[teachable]) (0.57b0)\n",
      "Requirement already satisfied: backoff>=1.10.0 in /Users/ravishankarkushwaha/anaconda3/lib/python3.11/site-packages (from posthog<6.0.0,>=2.4.0->chromadb->ag2[teachable]) (2.2.1)\n",
      "Requirement already satisfied: distro>=1.5.0 in /Users/ravishankarkushwaha/anaconda3/lib/python3.11/site-packages (from posthog<6.0.0,>=2.4.0->chromadb->ag2[teachable]) (1.9.0)\n",
      "Requirement already satisfied: charset_normalizer<4,>=2 in /Users/ravishankarkushwaha/anaconda3/lib/python3.11/site-packages (from requests>=2.26.0->docker->ag2[teachable]) (2.0.4)\n",
      "Requirement already satisfied: markdown-it-py>=2.2.0 in /Users/ravishankarkushwaha/anaconda3/lib/python3.11/site-packages (from rich>=10.11.0->chromadb->ag2[teachable]) (2.2.0)\n",
      "Requirement already satisfied: pygments<3.0.0,>=2.13.0 in /Users/ravishankarkushwaha/anaconda3/lib/python3.11/site-packages (from rich>=10.11.0->chromadb->ag2[teachable]) (2.15.1)\n",
      "Requirement already satisfied: click>=8.0.0 in /Users/ravishankarkushwaha/anaconda3/lib/python3.11/site-packages (from typer>=0.9.0->chromadb->ag2[teachable]) (8.0.4)\n",
      "Requirement already satisfied: shellingham>=1.3.0 in /Users/ravishankarkushwaha/anaconda3/lib/python3.11/site-packages (from typer>=0.9.0->chromadb->ag2[teachable]) (1.5.4)\n",
      "Requirement already satisfied: httptools>=0.6.3 in /Users/ravishankarkushwaha/anaconda3/lib/python3.11/site-packages (from uvicorn[standard]>=0.18.3->chromadb->ag2[teachable]) (0.6.4)\n",
      "Requirement already satisfied: uvloop>=0.15.1 in /Users/ravishankarkushwaha/anaconda3/lib/python3.11/site-packages (from uvicorn[standard]>=0.18.3->chromadb->ag2[teachable]) (0.21.0)\n",
      "Requirement already satisfied: watchfiles>=0.13 in /Users/ravishankarkushwaha/anaconda3/lib/python3.11/site-packages (from uvicorn[standard]>=0.18.3->chromadb->ag2[teachable]) (1.1.0)\n",
      "Requirement already satisfied: websockets>=10.4 in /Users/ravishankarkushwaha/anaconda3/lib/python3.11/site-packages (from uvicorn[standard]>=0.18.3->chromadb->ag2[teachable]) (15.0.1)\n",
      "Requirement already satisfied: cachetools<6.0,>=2.0.0 in /Users/ravishankarkushwaha/anaconda3/lib/python3.11/site-packages (from google-auth>=1.0.1->kubernetes>=28.1.0->chromadb->ag2[teachable]) (5.3.1)\n",
      "Requirement already satisfied: pyasn1-modules>=0.2.1 in /Users/ravishankarkushwaha/anaconda3/lib/python3.11/site-packages (from google-auth>=1.0.1->kubernetes>=28.1.0->chromadb->ag2[teachable]) (0.2.8)\n",
      "Requirement already satisfied: rsa<5,>=3.1.4 in /Users/ravishankarkushwaha/anaconda3/lib/python3.11/site-packages (from google-auth>=1.0.1->kubernetes>=28.1.0->chromadb->ag2[teachable]) (4.9)\n",
      "Requirement already satisfied: zipp>=0.5 in /Users/ravishankarkushwaha/anaconda3/lib/python3.11/site-packages (from importlib-metadata<8.8.0,>=6.0->opentelemetry-api>=1.2.0->chromadb->ag2[teachable]) (3.11.0)\n",
      "Requirement already satisfied: mdurl~=0.1 in /Users/ravishankarkushwaha/anaconda3/lib/python3.11/site-packages (from markdown-it-py>=2.2.0->rich>=10.11.0->chromadb->ag2[teachable]) (0.1.0)\n",
      "Requirement already satisfied: humanfriendly>=9.1 in /Users/ravishankarkushwaha/anaconda3/lib/python3.11/site-packages (from coloredlogs->onnxruntime>=1.14.1->chromadb->ag2[teachable]) (10.0)\n",
      "Requirement already satisfied: mpmath>=0.19 in /Users/ravishankarkushwaha/anaconda3/lib/python3.11/site-packages (from sympy->onnxruntime>=1.14.1->chromadb->ag2[teachable]) (1.3.0)\n",
      "Requirement already satisfied: pyasn1<0.5.0,>=0.4.6 in /Users/ravishankarkushwaha/anaconda3/lib/python3.11/site-packages (from pyasn1-modules>=0.2.1->google-auth>=1.0.1->kubernetes>=28.1.0->chromadb->ag2[teachable]) (0.4.8)\n"
     ]
    }
   ],
   "source": [
    "# !pip install \"pyautogen[teachable]\"\n",
    "!pip install \"ag2[teachable]\""
   ]
  },
  {
   "cell_type": "code",
   "execution_count": 2,
   "id": "75c1e2b9",
   "metadata": {},
   "outputs": [
    {
     "name": "stderr",
     "output_type": "stream",
     "text": [
      "/Users/ravishankarkushwaha/anaconda3/lib/python3.11/site-packages/google/colab/data_table.py:30: UserWarning: IPython.utils.traitlets has moved to a top-level traitlets package.\n",
      "  from IPython.utils import traitlets as _traitlets\n"
     ]
    },
    {
     "data": {
      "text/plain": [
       "True"
      ]
     },
     "execution_count": 2,
     "metadata": {},
     "output_type": "execute_result"
    }
   ],
   "source": [
    "## import required libraries\n",
    "import os\n",
    "from autogen import UserProxyAgent, config_list_from_json\n",
    "from autogen.agentchat.contrib.capabilities.teachability import Teachability\n",
    "from autogen import ConversableAgent\n",
    "from dotenv import load_dotenv\n",
    "\n",
    "load_dotenv(override=True)"
   ]
  },
  {
   "cell_type": "code",
   "execution_count": 3,
   "id": "6d52f0be",
   "metadata": {},
   "outputs": [],
   "source": [
    "## llm configuration\n",
    "llm_config = {\n",
    "    \"model\": \"gpt-4o\",\n",
    "    \"api_key\": os.getenv(\"OPENAI_API_KEY\")\n",
    "}"
   ]
  },
  {
   "cell_type": "markdown",
   "id": "2d0a9ebb",
   "metadata": {},
   "source": [
    "## Create the agents"
   ]
  },
  {
   "cell_type": "code",
   "execution_count": 4,
   "id": "248ac820",
   "metadata": {},
   "outputs": [],
   "source": [
    "# start by instantiating any agent that inherits from ConversableAgent, which we use directly here for simplicity.\n",
    "teachable_agent = ConversableAgent(\n",
    "    name=\"teachable_agent\",\n",
    "    llm_config=llm_config\n",
    ")\n",
    "\n",
    "# Instantiate a Teachability object. Its parameters are all optional.\n",
    "teachability = Teachability(\n",
    "    reset_db=False, # Use True to force-reset the memo DB, and False to use an existing DB.\n",
    "    path_to_db_dir=\"./tmp/interactive/teachability_db\"\n",
    ")\n",
    "\n",
    "# Now add teachability to the agent.\n",
    "teachability.add_to_agent(teachable_agent)\n",
    "\n",
    "# For this test, create a user proxy agent as usual.\n",
    "user=UserProxyAgent(\n",
    "    \"user\",\n",
    "    human_input_mode=\"ALWAYS\",\n",
    "    code_execution_config={\"use_docker\": False}\n",
    ")"
   ]
  },
  {
   "cell_type": "markdown",
   "id": "ee7a4cb5",
   "metadata": {},
   "source": [
    "## Chat with teachable agent"
   ]
  },
  {
   "cell_type": "code",
   "execution_count": 6,
   "id": "34355822",
   "metadata": {},
   "outputs": [
    {
     "name": "stdout",
     "output_type": "stream",
     "text": [
      "\u001b[33mteachable_agent\u001b[0m (to user):\n",
      "\n",
      "Hi, I'm a teachable user assistant! What's on your mind?\n",
      "\n",
      "--------------------------------------------------------------------------------\n",
      "Replying as user. Provide feedback to teachable_agent. Press enter to skip and use auto-reply, or type 'exit' to end the conversation: What's my name?\n",
      "\u001b[33muser\u001b[0m (to teachable_agent):\n",
      "\n",
      "What's my name?\n",
      "\n",
      "--------------------------------------------------------------------------------\n",
      "\u001b[31m\n",
      ">>>>>>>> USING AUTO REPLY...\u001b[0m\n",
      "\u001b[33mteachable_agent\u001b[0m (to user):\n",
      "\n",
      "Your name is Ravi. How can I assist you today?\n",
      "\n",
      "--------------------------------------------------------------------------------\n",
      "Replying as user. Provide feedback to teachable_agent. Press enter to skip and use auto-reply, or type 'exit' to end the conversation: Which sweet do I like?\n",
      "\u001b[33muser\u001b[0m (to teachable_agent):\n",
      "\n",
      "Which sweet do I like?\n",
      "\n",
      "--------------------------------------------------------------------------------\n",
      "\u001b[31m\n",
      ">>>>>>>> USING AUTO REPLY...\u001b[0m\n",
      "\u001b[33mteachable_agent\u001b[0m (to user):\n",
      "\n",
      "You like Gulab Jamun. Would you like to know how to make it or perhaps find a place to buy some?\n",
      "\n",
      "--------------------------------------------------------------------------------\n",
      "Replying as user. Provide feedback to teachable_agent. Press enter to skip and use auto-reply, or type 'exit' to end the conversation: Give me process to prepare it.\n",
      "\u001b[33muser\u001b[0m (to teachable_agent):\n",
      "\n",
      "Give me process to prepare it.\n",
      "\n",
      "--------------------------------------------------------------------------------\n",
      "\u001b[31m\n",
      ">>>>>>>> USING AUTO REPLY...\u001b[0m\n",
      "\u001b[33mteachable_agent\u001b[0m (to user):\n",
      "\n",
      "Sure, here's a simple recipe for making Gulab Jamun:\n",
      "\n",
      "**Ingredients:**\n",
      "\n",
      "For the Jamuns:\n",
      "- 1 cup milk powder\n",
      "- 1/4 cup all-purpose flour\n",
      "- 1/4 teaspoon baking soda\n",
      "- 2 tablespoons ghee (clarified butter)\n",
      "- A little milk (as needed to knead the dough)\n",
      "\n",
      "For the Sugar Syrup:\n",
      "- 1.5 cups sugar\n",
      "- 1.5 cups water\n",
      "- 3-4 cardamom pods, crushed\n",
      "- A few saffron strands (optional)\n",
      "- 1 teaspoon rose water (optional)\n",
      "\n",
      "**Instructions:**\n",
      "\n",
      "1. **Prepare the Sugar Syrup:**\n",
      "   - In a pan, combine the sugar and water and bring it to a boil.\n",
      "   - Add the crushed cardamom pods and saffron strands to the syrup.\n",
      "   - Let it simmer for about 10 minutes on low heat until it slightly thickens.\n",
      "   - Add rose water if using, and turn off the heat. Set it aside.\n",
      "\n",
      "2. **Make the Dough:**\n",
      "   - In a mixing bowl, combine milk powder, all-purpose flour, and baking soda.\n",
      "   - Add ghee and mix well with your fingers until the mixture resembles breadcrumbs.\n",
      "   - Gradually add milk, a small amount at a time, and knead gently to form a smooth, soft dough. Be careful not to over-knead.\n",
      "\n",
      "3. **Shape into Balls:**\n",
      "   - Divide the dough into small portions and roll them between your palms to make smooth, crack-free balls. Ensure there are no cracks as these can cause the balls to break while frying.\n",
      "\n",
      "4. **Fry the Jamuns:**\n",
      "   - Heat ghee or oil in a pan on medium-low heat. The oil should be enough to cover the jamuns completely while frying.\n",
      "   - When the oil is moderately hot, gently slide the balls into the oil.\n",
      "   - Fry them on a low flame by stirring gently until they become golden brown.\n",
      "\n",
      "5. **Soak in Sugar Syrup:**\n",
      "   - Once all the jamuns are fried, drain the excess oil and add them into the warm sugar syrup.\n",
      "   - Let them soak in the syrup for at least 1-2 hours. They will gradually absorb the syrup and become soft and spongy.\n",
      "\n",
      "Make sure both the jamuns and sugar syrup are slightly warm when combining them. Enjoy your delicious homemade Gulab Jamun!\n",
      "\n",
      "--------------------------------------------------------------------------------\n",
      "Replying as user. Provide feedback to teachable_agent. Press enter to skip and use auto-reply, or type 'exit' to end the conversation: exit\n",
      "\u001b[31m\n",
      ">>>>>>>> TERMINATING RUN (77e6f0b0-547b-4e44-a346-ac11c099d0df): User requested to end the conversation\u001b[0m\n"
     ]
    },
    {
     "data": {
      "text/plain": [
       "ChatResult(chat_id=None, chat_history=[{'content': \"Hi, I'm a teachable user assistant! What's on your mind?\", 'role': 'assistant', 'name': 'teachable_agent'}, {'content': \"What's my name?\\n\\n# Memories that might help\\n- My Name is Ravi\\n\", 'role': 'user', 'name': 'user'}, {'content': 'Your name is Ravi. How can I assist you today?', 'role': 'assistant', 'name': 'teachable_agent'}, {'content': 'Which sweet do I like?\\n\\n# Memories that might help\\n- I like Gulab Jamun as sweet.\\n', 'role': 'user', 'name': 'user'}, {'content': 'You like Gulab Jamun. Would you like to know how to make it or perhaps find a place to buy some?', 'role': 'assistant', 'name': 'teachable_agent'}, {'content': 'Give me process to prepare it.', 'role': 'user', 'name': 'user'}, {'content': \"Sure, here's a simple recipe for making Gulab Jamun:\\n\\n**Ingredients:**\\n\\nFor the Jamuns:\\n- 1 cup milk powder\\n- 1/4 cup all-purpose flour\\n- 1/4 teaspoon baking soda\\n- 2 tablespoons ghee (clarified butter)\\n- A little milk (as needed to knead the dough)\\n\\nFor the Sugar Syrup:\\n- 1.5 cups sugar\\n- 1.5 cups water\\n- 3-4 cardamom pods, crushed\\n- A few saffron strands (optional)\\n- 1 teaspoon rose water (optional)\\n\\n**Instructions:**\\n\\n1. **Prepare the Sugar Syrup:**\\n   - In a pan, combine the sugar and water and bring it to a boil.\\n   - Add the crushed cardamom pods and saffron strands to the syrup.\\n   - Let it simmer for about 10 minutes on low heat until it slightly thickens.\\n   - Add rose water if using, and turn off the heat. Set it aside.\\n\\n2. **Make the Dough:**\\n   - In a mixing bowl, combine milk powder, all-purpose flour, and baking soda.\\n   - Add ghee and mix well with your fingers until the mixture resembles breadcrumbs.\\n   - Gradually add milk, a small amount at a time, and knead gently to form a smooth, soft dough. Be careful not to over-knead.\\n\\n3. **Shape into Balls:**\\n   - Divide the dough into small portions and roll them between your palms to make smooth, crack-free balls. Ensure there are no cracks as these can cause the balls to break while frying.\\n\\n4. **Fry the Jamuns:**\\n   - Heat ghee or oil in a pan on medium-low heat. The oil should be enough to cover the jamuns completely while frying.\\n   - When the oil is moderately hot, gently slide the balls into the oil.\\n   - Fry them on a low flame by stirring gently until they become golden brown.\\n\\n5. **Soak in Sugar Syrup:**\\n   - Once all the jamuns are fried, drain the excess oil and add them into the warm sugar syrup.\\n   - Let them soak in the syrup for at least 1-2 hours. They will gradually absorb the syrup and become soft and spongy.\\n\\nMake sure both the jamuns and sugar syrup are slightly warm when combining them. Enjoy your delicious homemade Gulab Jamun!\", 'role': 'assistant', 'name': 'teachable_agent'}], summary=\"Sure, here's a simple recipe for making Gulab Jamun:\\n\\n**Ingredients:**\\n\\nFor the Jamuns:\\n- 1 cup milk powder\\n- 1/4 cup all-purpose flour\\n- 1/4 teaspoon baking soda\\n- 2 tablespoons ghee (clarified butter)\\n- A little milk (as needed to knead the dough)\\n\\nFor the Sugar Syrup:\\n- 1.5 cups sugar\\n- 1.5 cups water\\n- 3-4 cardamom pods, crushed\\n- A few saffron strands (optional)\\n- 1 teaspoon rose water (optional)\\n\\n**Instructions:**\\n\\n1. **Prepare the Sugar Syrup:**\\n   - In a pan, combine the sugar and water and bring it to a boil.\\n   - Add the crushed cardamom pods and saffron strands to the syrup.\\n   - Let it simmer for about 10 minutes on low heat until it slightly thickens.\\n   - Add rose water if using, and turn off the heat. Set it aside.\\n\\n2. **Make the Dough:**\\n   - In a mixing bowl, combine milk powder, all-purpose flour, and baking soda.\\n   - Add ghee and mix well with your fingers until the mixture resembles breadcrumbs.\\n   - Gradually add milk, a small amount at a time, and knead gently to form a smooth, soft dough. Be careful not to over-knead.\\n\\n3. **Shape into Balls:**\\n   - Divide the dough into small portions and roll them between your palms to make smooth, crack-free balls. Ensure there are no cracks as these can cause the balls to break while frying.\\n\\n4. **Fry the Jamuns:**\\n   - Heat ghee or oil in a pan on medium-low heat. The oil should be enough to cover the jamuns completely while frying.\\n   - When the oil is moderately hot, gently slide the balls into the oil.\\n   - Fry them on a low flame by stirring gently until they become golden brown.\\n\\n5. **Soak in Sugar Syrup:**\\n   - Once all the jamuns are fried, drain the excess oil and add them into the warm sugar syrup.\\n   - Let them soak in the syrup for at least 1-2 hours. They will gradually absorb the syrup and become soft and spongy.\\n\\nMake sure both the jamuns and sugar syrup are slightly warm when combining them. Enjoy your delicious homemade Gulab Jamun!\", cost={'usage_including_cached_inference': {'total_cost': 0.0079775, 'gpt-4o-2024-08-06': {'cost': 0.0079775, 'prompt_tokens': 671, 'completion_tokens': 630, 'total_tokens': 1301}}, 'usage_excluding_cached_inference': {'total_cost': 0.0079775, 'gpt-4o-2024-08-06': {'cost': 0.0079775, 'prompt_tokens': 671, 'completion_tokens': 630, 'total_tokens': 1301}}}, human_input=[])"
      ]
     },
     "execution_count": 6,
     "metadata": {},
     "output_type": "execute_result"
    }
   ],
   "source": [
    "# This function will return once the user types 'exit'\n",
    "teachable_agent.initiate_chat(user, message=\"Hi, I'm a teachable user assistant! What's on your mind?\")"
   ]
  },
  {
   "cell_type": "code",
   "execution_count": null,
   "id": "c50008d5",
   "metadata": {},
   "outputs": [],
   "source": []
  }
 ],
 "metadata": {
  "kernelspec": {
   "display_name": "Python 3 (ipykernel)",
   "language": "python",
   "name": "python3"
  },
  "language_info": {
   "codemirror_mode": {
    "name": "ipython",
    "version": 3
   },
   "file_extension": ".py",
   "mimetype": "text/x-python",
   "name": "python",
   "nbconvert_exporter": "python",
   "pygments_lexer": "ipython3",
   "version": "3.11.4"
  }
 },
 "nbformat": 4,
 "nbformat_minor": 5
}
