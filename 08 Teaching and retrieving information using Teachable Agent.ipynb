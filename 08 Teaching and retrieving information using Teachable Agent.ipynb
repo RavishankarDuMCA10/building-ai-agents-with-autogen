{
 "cells": [
  {
   "cell_type": "markdown",
   "id": "d28908c5",
   "metadata": {},
   "source": [
    "# Teachable Agents"
   ]
  },
  {
   "cell_type": "code",
   "execution_count": 1,
   "id": "d594cbaf",
   "metadata": {},
   "outputs": [
    {
     "name": "stdout",
     "output_type": "stream",
     "text": [
      "Requirement already satisfied: ag2[teachable] in /Users/ravishankarkushwaha/anaconda3/lib/python3.11/site-packages (0.9.7)\n",
      "Requirement already satisfied: anyio<5.0.0,>=3.0.0 in /Users/ravishankarkushwaha/anaconda3/lib/python3.11/site-packages (from ag2[teachable]) (3.5.0)\n",
      "Requirement already satisfied: asyncer==0.0.8 in /Users/ravishankarkushwaha/anaconda3/lib/python3.11/site-packages (from ag2[teachable]) (0.0.8)\n",
      "Requirement already satisfied: diskcache in /Users/ravishankarkushwaha/anaconda3/lib/python3.11/site-packages (from ag2[teachable]) (5.6.3)\n",
      "Requirement already satisfied: docker in /Users/ravishankarkushwaha/anaconda3/lib/python3.11/site-packages (from ag2[teachable]) (7.1.0)\n",
      "Requirement already satisfied: httpx<1,>=0.28.1 in /Users/ravishankarkushwaha/anaconda3/lib/python3.11/site-packages (from ag2[teachable]) (0.28.1)\n",
      "Requirement already satisfied: packaging in /Users/ravishankarkushwaha/anaconda3/lib/python3.11/site-packages (from ag2[teachable]) (23.0)\n",
      "Requirement already satisfied: pydantic<3,>=2.6.1 in /Users/ravishankarkushwaha/anaconda3/lib/python3.11/site-packages (from ag2[teachable]) (2.11.7)\n",
      "Requirement already satisfied: python-dotenv in /Users/ravishankarkushwaha/anaconda3/lib/python3.11/site-packages (from ag2[teachable]) (1.0.0)\n",
      "Requirement already satisfied: termcolor in /Users/ravishankarkushwaha/anaconda3/lib/python3.11/site-packages (from ag2[teachable]) (2.3.0)\n",
      "Requirement already satisfied: tiktoken in /Users/ravishankarkushwaha/anaconda3/lib/python3.11/site-packages (from ag2[teachable]) (0.7.0)\n",
      "Requirement already satisfied: chromadb in /Users/ravishankarkushwaha/anaconda3/lib/python3.11/site-packages (from ag2[teachable]) (1.0.16)\n",
      "Requirement already satisfied: idna>=2.8 in /Users/ravishankarkushwaha/anaconda3/lib/python3.11/site-packages (from anyio<5.0.0,>=3.0.0->ag2[teachable]) (3.4)\n",
      "Requirement already satisfied: sniffio>=1.1 in /Users/ravishankarkushwaha/anaconda3/lib/python3.11/site-packages (from anyio<5.0.0,>=3.0.0->ag2[teachable]) (1.2.0)\n",
      "Requirement already satisfied: certifi in /Users/ravishankarkushwaha/anaconda3/lib/python3.11/site-packages (from httpx<1,>=0.28.1->ag2[teachable]) (2025.8.3)\n",
      "Requirement already satisfied: httpcore==1.* in /Users/ravishankarkushwaha/anaconda3/lib/python3.11/site-packages (from httpx<1,>=0.28.1->ag2[teachable]) (1.0.5)\n",
      "Requirement already satisfied: h11<0.15,>=0.13 in /Users/ravishankarkushwaha/anaconda3/lib/python3.11/site-packages (from httpcore==1.*->httpx<1,>=0.28.1->ag2[teachable]) (0.14.0)\n",
      "Requirement already satisfied: annotated-types>=0.6.0 in /Users/ravishankarkushwaha/anaconda3/lib/python3.11/site-packages (from pydantic<3,>=2.6.1->ag2[teachable]) (0.7.0)\n",
      "Requirement already satisfied: pydantic-core==2.33.2 in /Users/ravishankarkushwaha/anaconda3/lib/python3.11/site-packages (from pydantic<3,>=2.6.1->ag2[teachable]) (2.33.2)\n",
      "Requirement already satisfied: typing-extensions>=4.12.2 in /Users/ravishankarkushwaha/anaconda3/lib/python3.11/site-packages (from pydantic<3,>=2.6.1->ag2[teachable]) (4.14.1)\n",
      "Requirement already satisfied: typing-inspection>=0.4.0 in /Users/ravishankarkushwaha/anaconda3/lib/python3.11/site-packages (from pydantic<3,>=2.6.1->ag2[teachable]) (0.4.1)\n",
      "Requirement already satisfied: build>=1.0.3 in /Users/ravishankarkushwaha/anaconda3/lib/python3.11/site-packages (from chromadb->ag2[teachable]) (1.3.0)\n",
      "Requirement already satisfied: pybase64>=1.4.1 in /Users/ravishankarkushwaha/anaconda3/lib/python3.11/site-packages (from chromadb->ag2[teachable]) (1.4.2)\n",
      "Requirement already satisfied: uvicorn[standard]>=0.18.3 in /Users/ravishankarkushwaha/anaconda3/lib/python3.11/site-packages (from chromadb->ag2[teachable]) (0.35.0)\n",
      "Requirement already satisfied: numpy>=1.22.5 in /Users/ravishankarkushwaha/anaconda3/lib/python3.11/site-packages (from chromadb->ag2[teachable]) (1.24.4)\n",
      "Requirement already satisfied: posthog<6.0.0,>=2.4.0 in /Users/ravishankarkushwaha/anaconda3/lib/python3.11/site-packages (from chromadb->ag2[teachable]) (5.4.0)\n",
      "Requirement already satisfied: onnxruntime>=1.14.1 in /Users/ravishankarkushwaha/anaconda3/lib/python3.11/site-packages (from chromadb->ag2[teachable]) (1.22.1)\n",
      "Requirement already satisfied: opentelemetry-api>=1.2.0 in /Users/ravishankarkushwaha/anaconda3/lib/python3.11/site-packages (from chromadb->ag2[teachable]) (1.36.0)\n",
      "Requirement already satisfied: opentelemetry-exporter-otlp-proto-grpc>=1.2.0 in /Users/ravishankarkushwaha/anaconda3/lib/python3.11/site-packages (from chromadb->ag2[teachable]) (1.36.0)\n",
      "Requirement already satisfied: opentelemetry-sdk>=1.2.0 in /Users/ravishankarkushwaha/anaconda3/lib/python3.11/site-packages (from chromadb->ag2[teachable]) (1.36.0)\n",
      "Requirement already satisfied: tokenizers>=0.13.2 in /Users/ravishankarkushwaha/anaconda3/lib/python3.11/site-packages (from chromadb->ag2[teachable]) (0.13.2)\n",
      "Requirement already satisfied: pypika>=0.48.9 in /Users/ravishankarkushwaha/anaconda3/lib/python3.11/site-packages (from chromadb->ag2[teachable]) (0.48.9)\n",
      "Requirement already satisfied: tqdm>=4.65.0 in /Users/ravishankarkushwaha/anaconda3/lib/python3.11/site-packages (from chromadb->ag2[teachable]) (4.66.5)\n",
      "Requirement already satisfied: overrides>=7.3.1 in /Users/ravishankarkushwaha/anaconda3/lib/python3.11/site-packages (from chromadb->ag2[teachable]) (7.7.0)\n",
      "Requirement already satisfied: importlib-resources in /Users/ravishankarkushwaha/anaconda3/lib/python3.11/site-packages (from chromadb->ag2[teachable]) (6.5.2)\n",
      "Requirement already satisfied: grpcio>=1.58.0 in /Users/ravishankarkushwaha/anaconda3/lib/python3.11/site-packages (from chromadb->ag2[teachable]) (1.74.0)\n",
      "Requirement already satisfied: bcrypt>=4.0.1 in /Users/ravishankarkushwaha/anaconda3/lib/python3.11/site-packages (from chromadb->ag2[teachable]) (4.3.0)\n",
      "Requirement already satisfied: typer>=0.9.0 in /Users/ravishankarkushwaha/anaconda3/lib/python3.11/site-packages (from chromadb->ag2[teachable]) (0.15.1)\n",
      "Requirement already satisfied: kubernetes>=28.1.0 in /Users/ravishankarkushwaha/anaconda3/lib/python3.11/site-packages (from chromadb->ag2[teachable]) (33.1.0)\n",
      "Requirement already satisfied: tenacity>=8.2.3 in /Users/ravishankarkushwaha/anaconda3/lib/python3.11/site-packages (from chromadb->ag2[teachable]) (8.5.0)\n",
      "Requirement already satisfied: pyyaml>=6.0.0 in /Users/ravishankarkushwaha/anaconda3/lib/python3.11/site-packages (from chromadb->ag2[teachable]) (6.0.2)\n",
      "Requirement already satisfied: mmh3>=4.0.1 in /Users/ravishankarkushwaha/anaconda3/lib/python3.11/site-packages (from chromadb->ag2[teachable]) (5.2.0)\n",
      "Requirement already satisfied: orjson>=3.9.12 in /Users/ravishankarkushwaha/anaconda3/lib/python3.11/site-packages (from chromadb->ag2[teachable]) (3.11.1)\n",
      "Requirement already satisfied: rich>=10.11.0 in /Users/ravishankarkushwaha/anaconda3/lib/python3.11/site-packages (from chromadb->ag2[teachable]) (13.9.2)\n",
      "Requirement already satisfied: jsonschema>=4.19.0 in /Users/ravishankarkushwaha/anaconda3/lib/python3.11/site-packages (from chromadb->ag2[teachable]) (4.25.0)\n",
      "Requirement already satisfied: requests>=2.26.0 in /Users/ravishankarkushwaha/anaconda3/lib/python3.11/site-packages (from docker->ag2[teachable]) (2.32.4)\n",
      "Requirement already satisfied: urllib3>=1.26.0 in /Users/ravishankarkushwaha/anaconda3/lib/python3.11/site-packages (from docker->ag2[teachable]) (1.26.20)\n",
      "Requirement already satisfied: regex>=2022.1.18 in /Users/ravishankarkushwaha/anaconda3/lib/python3.11/site-packages (from tiktoken->ag2[teachable]) (2022.7.9)\n",
      "Requirement already satisfied: pyproject_hooks in /Users/ravishankarkushwaha/anaconda3/lib/python3.11/site-packages (from build>=1.0.3->chromadb->ag2[teachable]) (1.2.0)\n",
      "Requirement already satisfied: attrs>=22.2.0 in /Users/ravishankarkushwaha/anaconda3/lib/python3.11/site-packages (from jsonschema>=4.19.0->chromadb->ag2[teachable]) (25.3.0)\n",
      "Requirement already satisfied: jsonschema-specifications>=2023.03.6 in /Users/ravishankarkushwaha/anaconda3/lib/python3.11/site-packages (from jsonschema>=4.19.0->chromadb->ag2[teachable]) (2025.4.1)\n",
      "Requirement already satisfied: referencing>=0.28.4 in /Users/ravishankarkushwaha/anaconda3/lib/python3.11/site-packages (from jsonschema>=4.19.0->chromadb->ag2[teachable]) (0.36.2)\n",
      "Requirement already satisfied: rpds-py>=0.7.1 in /Users/ravishankarkushwaha/anaconda3/lib/python3.11/site-packages (from jsonschema>=4.19.0->chromadb->ag2[teachable]) (0.27.0)\n",
      "Requirement already satisfied: six>=1.9.0 in /Users/ravishankarkushwaha/anaconda3/lib/python3.11/site-packages (from kubernetes>=28.1.0->chromadb->ag2[teachable]) (1.16.0)\n",
      "Requirement already satisfied: python-dateutil>=2.5.3 in /Users/ravishankarkushwaha/anaconda3/lib/python3.11/site-packages (from kubernetes>=28.1.0->chromadb->ag2[teachable]) (2.8.2)\n"
     ]
    },
    {
     "name": "stdout",
     "output_type": "stream",
     "text": [
      "Requirement already satisfied: google-auth>=1.0.1 in /Users/ravishankarkushwaha/anaconda3/lib/python3.11/site-packages (from kubernetes>=28.1.0->chromadb->ag2[teachable]) (2.22.0)\n",
      "Requirement already satisfied: websocket-client!=0.40.0,!=0.41.*,!=0.42.*,>=0.32.0 in /Users/ravishankarkushwaha/anaconda3/lib/python3.11/site-packages (from kubernetes>=28.1.0->chromadb->ag2[teachable]) (1.6.3)\n",
      "Requirement already satisfied: requests-oauthlib in /Users/ravishankarkushwaha/anaconda3/lib/python3.11/site-packages (from kubernetes>=28.1.0->chromadb->ag2[teachable]) (1.3.1)\n",
      "Requirement already satisfied: oauthlib>=3.2.2 in /Users/ravishankarkushwaha/anaconda3/lib/python3.11/site-packages (from kubernetes>=28.1.0->chromadb->ag2[teachable]) (3.2.2)\n",
      "Requirement already satisfied: durationpy>=0.7 in /Users/ravishankarkushwaha/anaconda3/lib/python3.11/site-packages (from kubernetes>=28.1.0->chromadb->ag2[teachable]) (0.10)\n",
      "Requirement already satisfied: coloredlogs in /Users/ravishankarkushwaha/anaconda3/lib/python3.11/site-packages (from onnxruntime>=1.14.1->chromadb->ag2[teachable]) (15.0.1)\n",
      "Requirement already satisfied: flatbuffers in /Users/ravishankarkushwaha/anaconda3/lib/python3.11/site-packages (from onnxruntime>=1.14.1->chromadb->ag2[teachable]) (23.5.26)\n",
      "Requirement already satisfied: protobuf in /Users/ravishankarkushwaha/anaconda3/lib/python3.11/site-packages (from onnxruntime>=1.14.1->chromadb->ag2[teachable]) (5.29.5)\n",
      "Requirement already satisfied: sympy in /Users/ravishankarkushwaha/anaconda3/lib/python3.11/site-packages (from onnxruntime>=1.14.1->chromadb->ag2[teachable]) (1.11.1)\n",
      "Requirement already satisfied: importlib-metadata<8.8.0,>=6.0 in /Users/ravishankarkushwaha/anaconda3/lib/python3.11/site-packages (from opentelemetry-api>=1.2.0->chromadb->ag2[teachable]) (6.0.0)\n",
      "Requirement already satisfied: googleapis-common-protos~=1.57 in /Users/ravishankarkushwaha/anaconda3/lib/python3.11/site-packages (from opentelemetry-exporter-otlp-proto-grpc>=1.2.0->chromadb->ag2[teachable]) (1.70.0)\n",
      "Requirement already satisfied: opentelemetry-exporter-otlp-proto-common==1.36.0 in /Users/ravishankarkushwaha/anaconda3/lib/python3.11/site-packages (from opentelemetry-exporter-otlp-proto-grpc>=1.2.0->chromadb->ag2[teachable]) (1.36.0)\n",
      "Requirement already satisfied: opentelemetry-proto==1.36.0 in /Users/ravishankarkushwaha/anaconda3/lib/python3.11/site-packages (from opentelemetry-exporter-otlp-proto-grpc>=1.2.0->chromadb->ag2[teachable]) (1.36.0)\n",
      "Requirement already satisfied: opentelemetry-semantic-conventions==0.57b0 in /Users/ravishankarkushwaha/anaconda3/lib/python3.11/site-packages (from opentelemetry-sdk>=1.2.0->chromadb->ag2[teachable]) (0.57b0)\n",
      "Requirement already satisfied: backoff>=1.10.0 in /Users/ravishankarkushwaha/anaconda3/lib/python3.11/site-packages (from posthog<6.0.0,>=2.4.0->chromadb->ag2[teachable]) (2.2.1)\n",
      "Requirement already satisfied: distro>=1.5.0 in /Users/ravishankarkushwaha/anaconda3/lib/python3.11/site-packages (from posthog<6.0.0,>=2.4.0->chromadb->ag2[teachable]) (1.9.0)\n",
      "Requirement already satisfied: charset_normalizer<4,>=2 in /Users/ravishankarkushwaha/anaconda3/lib/python3.11/site-packages (from requests>=2.26.0->docker->ag2[teachable]) (2.0.4)\n",
      "Requirement already satisfied: markdown-it-py>=2.2.0 in /Users/ravishankarkushwaha/anaconda3/lib/python3.11/site-packages (from rich>=10.11.0->chromadb->ag2[teachable]) (2.2.0)\n",
      "Requirement already satisfied: pygments<3.0.0,>=2.13.0 in /Users/ravishankarkushwaha/anaconda3/lib/python3.11/site-packages (from rich>=10.11.0->chromadb->ag2[teachable]) (2.15.1)\n",
      "Requirement already satisfied: click>=8.0.0 in /Users/ravishankarkushwaha/anaconda3/lib/python3.11/site-packages (from typer>=0.9.0->chromadb->ag2[teachable]) (8.0.4)\n",
      "Requirement already satisfied: shellingham>=1.3.0 in /Users/ravishankarkushwaha/anaconda3/lib/python3.11/site-packages (from typer>=0.9.0->chromadb->ag2[teachable]) (1.5.4)\n",
      "Requirement already satisfied: httptools>=0.6.3 in /Users/ravishankarkushwaha/anaconda3/lib/python3.11/site-packages (from uvicorn[standard]>=0.18.3->chromadb->ag2[teachable]) (0.6.4)\n",
      "Requirement already satisfied: uvloop>=0.15.1 in /Users/ravishankarkushwaha/anaconda3/lib/python3.11/site-packages (from uvicorn[standard]>=0.18.3->chromadb->ag2[teachable]) (0.21.0)\n",
      "Requirement already satisfied: watchfiles>=0.13 in /Users/ravishankarkushwaha/anaconda3/lib/python3.11/site-packages (from uvicorn[standard]>=0.18.3->chromadb->ag2[teachable]) (1.1.0)\n",
      "Requirement already satisfied: websockets>=10.4 in /Users/ravishankarkushwaha/anaconda3/lib/python3.11/site-packages (from uvicorn[standard]>=0.18.3->chromadb->ag2[teachable]) (15.0.1)\n",
      "Requirement already satisfied: cachetools<6.0,>=2.0.0 in /Users/ravishankarkushwaha/anaconda3/lib/python3.11/site-packages (from google-auth>=1.0.1->kubernetes>=28.1.0->chromadb->ag2[teachable]) (5.3.1)\n",
      "Requirement already satisfied: pyasn1-modules>=0.2.1 in /Users/ravishankarkushwaha/anaconda3/lib/python3.11/site-packages (from google-auth>=1.0.1->kubernetes>=28.1.0->chromadb->ag2[teachable]) (0.2.8)\n",
      "Requirement already satisfied: rsa<5,>=3.1.4 in /Users/ravishankarkushwaha/anaconda3/lib/python3.11/site-packages (from google-auth>=1.0.1->kubernetes>=28.1.0->chromadb->ag2[teachable]) (4.9)\n",
      "Requirement already satisfied: zipp>=0.5 in /Users/ravishankarkushwaha/anaconda3/lib/python3.11/site-packages (from importlib-metadata<8.8.0,>=6.0->opentelemetry-api>=1.2.0->chromadb->ag2[teachable]) (3.11.0)\n",
      "Requirement already satisfied: mdurl~=0.1 in /Users/ravishankarkushwaha/anaconda3/lib/python3.11/site-packages (from markdown-it-py>=2.2.0->rich>=10.11.0->chromadb->ag2[teachable]) (0.1.0)\n",
      "Requirement already satisfied: humanfriendly>=9.1 in /Users/ravishankarkushwaha/anaconda3/lib/python3.11/site-packages (from coloredlogs->onnxruntime>=1.14.1->chromadb->ag2[teachable]) (10.0)\n",
      "Requirement already satisfied: mpmath>=0.19 in /Users/ravishankarkushwaha/anaconda3/lib/python3.11/site-packages (from sympy->onnxruntime>=1.14.1->chromadb->ag2[teachable]) (1.3.0)\n",
      "Requirement already satisfied: pyasn1<0.5.0,>=0.4.6 in /Users/ravishankarkushwaha/anaconda3/lib/python3.11/site-packages (from pyasn1-modules>=0.2.1->google-auth>=1.0.1->kubernetes>=28.1.0->chromadb->ag2[teachable]) (0.4.8)\n"
     ]
    }
   ],
   "source": [
    "!pip install \"ag2[teachable]\""
   ]
  },
  {
   "cell_type": "code",
   "execution_count": 2,
   "id": "8da63dfe",
   "metadata": {},
   "outputs": [
    {
     "name": "stderr",
     "output_type": "stream",
     "text": [
      "/Users/ravishankarkushwaha/anaconda3/lib/python3.11/site-packages/google/colab/data_table.py:30: UserWarning: IPython.utils.traitlets has moved to a top-level traitlets package.\n",
      "  from IPython.utils import traitlets as _traitlets\n"
     ]
    },
    {
     "data": {
      "text/plain": [
       "True"
      ]
     },
     "execution_count": 2,
     "metadata": {},
     "output_type": "execute_result"
    }
   ],
   "source": [
    "## import required libraries\n",
    "import os\n",
    "from autogen import UserProxyAgent, config_list_from_json\n",
    "from autogen.agentchat.contrib.capabilities.teachability import Teachability\n",
    "from autogen import ConversableAgent\n",
    "from dotenv import load_dotenv\n",
    "\n",
    "load_dotenv(override=True)"
   ]
  },
  {
   "cell_type": "code",
   "execution_count": 3,
   "id": "1d0b1710",
   "metadata": {},
   "outputs": [],
   "source": [
    "## llm configuration\n",
    "llm_config = {\n",
    "    \"model\": \"gpt-4o\",\n",
    "    \"api_key\": os.getenv(\"OPENAI_API_KEY\")\n",
    "}"
   ]
  },
  {
   "cell_type": "markdown",
   "id": "01745c54",
   "metadata": {},
   "source": [
    "## Create the agents"
   ]
  },
  {
   "cell_type": "code",
   "execution_count": 6,
   "id": "182d6e9f",
   "metadata": {},
   "outputs": [
    {
     "name": "stdout",
     "output_type": "stream",
     "text": [
      "\u001b[92m\n",
      "LOADING MEMORY FROM DISK\u001b[0m\n",
      "\u001b[92m    Location = ./tmp/interactive/teachability_db/uid_text_dict.pkl\u001b[0m\n"
     ]
    }
   ],
   "source": [
    "# start by instantiating any agent that inherits from ConversableAgent, which we use directly here for simplicity.\n",
    "teachable_agent = ConversableAgent(\n",
    "    name=\"teachable_agent\",\n",
    "    llm_config=llm_config\n",
    ")\n",
    "\n",
    "# Instantiate a Teachability object. Its parameters are all optional.\n",
    "teachability = Teachability(\n",
    "    reset_db=False, # Use True to force-reset the memo DB, and False to use an existing DB.\n",
    "    path_to_db_dir=\"./tmp/interactive/teachability_db\"\n",
    ")\n",
    "\n",
    "# Now add teachability to the agent.\n",
    "teachability.add_to_agent(teachable_agent)\n",
    "\n",
    "# For this test, create a user proxy agent as usual.\n",
    "user=UserProxyAgent(\n",
    "    \"user\",\n",
    "    human_input_mode=\"ALWAYS\",\n",
    "    code_execution_config={\"use_docker\": False}\n",
    ")"
   ]
  },
  {
   "cell_type": "markdown",
   "id": "c6596cdb",
   "metadata": {},
   "source": [
    "## Chat with teachable agent"
   ]
  },
  {
   "cell_type": "code",
   "execution_count": 5,
   "id": "3ebde553",
   "metadata": {},
   "outputs": [
    {
     "name": "stdout",
     "output_type": "stream",
     "text": [
      "\u001b[33mteachable_agent\u001b[0m (to user):\n",
      "\n",
      "Hi, I'm a teachable user assistant! What's on your mind?\n",
      "\n",
      "--------------------------------------------------------------------------------\n",
      "Replying as user. Provide feedback to teachable_agent. Press enter to skip and use auto-reply, or type 'exit' to end the conversation: Please summarise this abstract: AutoGen is an open-source framework that allows developers to build LLM applications via multiple agents that can converse with each other to accomplish tasks. AutoGen agents are customizable, conversable, and can operate in various modes that employ combinations of LLMs, human inputs, and tools. Using AutoGen, developers can also flexibly define agent interaction behaviors. Both natural language and computer code can be used to program flexible conversation patterns for different applications. AutoGen serves as a generic infrastructure to build diverse applications of various complexities and LLM capacities. Empirical studies demonstrate the effectiveness of the framework in many example applications, with domains ranging from mathematics, coding, question answering, operations research, online decision-making, entertainment, etc.\n",
      "\u001b[33muser\u001b[0m (to teachable_agent):\n",
      "\n",
      "Please summarise this abstract: AutoGen is an open-source framework that allows developers to build LLM applications via multiple agents that can converse with each other to accomplish tasks. AutoGen agents are customizable, conversable, and can operate in various modes that employ combinations of LLMs, human inputs, and tools. Using AutoGen, developers can also flexibly define agent interaction behaviors. Both natural language and computer code can be used to program flexible conversation patterns for different applications. AutoGen serves as a generic infrastructure to build diverse applications of various complexities and LLM capacities. Empirical studies demonstrate the effectiveness of the framework in many example applications, with domains ranging from mathematics, coding, question answering, operations research, online decision-making, entertainment, etc.\n",
      "\n",
      "--------------------------------------------------------------------------------\n",
      "\u001b[31m\n",
      ">>>>>>>> USING AUTO REPLY...\u001b[0m\n",
      "\u001b[33mteachable_agent\u001b[0m (to user):\n",
      "\n",
      "AutoGen is an open-source framework designed for developers to create applications using multiple large language model (LLM) agents that can interact with each other to complete tasks. These agents are customizable and can communicate using different modes, integrating LLMs, human input, and tools. Developers have the flexibility to define interaction behaviors and program conversation patterns using both natural language and computer code. AutoGen provides a versatile infrastructure for building a wide range of applications with varying complexities and LLM capabilities. Its effectiveness has been demonstrated in diverse fields such as mathematics, coding, question answering, operations research, online decision-making, and entertainment through empirical studies.\n",
      "\n",
      "--------------------------------------------------------------------------------\n",
      "Replying as user. Provide feedback to teachable_agent. Press enter to skip and use auto-reply, or type 'exit' to end the conversation: I always like my summary to have three bullet points, the title, the key ideas and the key takeaways. Now, summarise this abstract: AutoGen is an open-source framework that allows developers to build LLM applications via multiple agents that can converse with each other to accomplish tasks. AutoGen agents are customizable, conversable, and can operate in various modes that employ combinations of LLMs, human inputs, and tools. Using AutoGen, developers can also flexibly define agent interaction behaviors. Both natural language and computer code can be used to program flexible conversation patterns for different applications. AutoGen serves as a generic infrastructure to build diverse applications of various complexities and LLM capacities. Empirical studies demonstrate the effectiveness of the framework in many example applications, with domains ranging from mathematics, coding, question answering, operations research, online decision-making, entertainment, etc.\n",
      "\u001b[33muser\u001b[0m (to teachable_agent):\n",
      "\n",
      "I always like my summary to have three bullet points, the title, the key ideas and the key takeaways. Now, summarise this abstract: AutoGen is an open-source framework that allows developers to build LLM applications via multiple agents that can converse with each other to accomplish tasks. AutoGen agents are customizable, conversable, and can operate in various modes that employ combinations of LLMs, human inputs, and tools. Using AutoGen, developers can also flexibly define agent interaction behaviors. Both natural language and computer code can be used to program flexible conversation patterns for different applications. AutoGen serves as a generic infrastructure to build diverse applications of various complexities and LLM capacities. Empirical studies demonstrate the effectiveness of the framework in many example applications, with domains ranging from mathematics, coding, question answering, operations research, online decision-making, entertainment, etc.\n",
      "\n",
      "--------------------------------------------------------------------------------\n",
      "\u001b[31m\n",
      ">>>>>>>> USING AUTO REPLY...\u001b[0m\n",
      "\u001b[33mteachable_agent\u001b[0m (to user):\n",
      "\n",
      "**AutoGen Framework Overview**\n",
      "\n",
      "- **Key Ideas:**\n",
      "  - AutoGen is an open-source framework designed for developing applications with large language model (LLM) agents that communicate to complete tasks.\n",
      "  - The framework supports customizable and conversable agents that can utilize LLMs, human inputs, and tools in different operational modes.\n",
      "  - Developers can program conversation patterns using both natural language and code, allowing flexibility in defining interaction behaviors.\n",
      "\n",
      "- **Key Takeaways:**\n",
      "  - AutoGen provides a versatile infrastructure for creating diverse applications across varying complexities and LLM capabilities.\n",
      "  - Empirical studies have demonstrated AutoGen's effectiveness in multiple domains, including mathematics, coding, question answering, operations research, online decision-making, and entertainment.\n",
      "\n",
      "--------------------------------------------------------------------------------\n",
      "Replying as user. Provide feedback to teachable_agent. Press enter to skip and use auto-reply, or type 'exit' to end the conversation: exit\n",
      "\u001b[31m\n",
      ">>>>>>>> TERMINATING RUN (ffecfee1-4b3e-4ba8-9c7a-725a167fcc24): User requested to end the conversation\u001b[0m\n"
     ]
    },
    {
     "data": {
      "text/plain": [
       "ChatResult(chat_id=None, chat_history=[{'content': \"Hi, I'm a teachable user assistant! What's on your mind?\", 'role': 'assistant', 'name': 'teachable_agent'}, {'content': 'Please summarise this abstract: AutoGen is an open-source framework that allows developers to build LLM applications via multiple agents that can converse with each other to accomplish tasks. AutoGen agents are customizable, conversable, and can operate in various modes that employ combinations of LLMs, human inputs, and tools. Using AutoGen, developers can also flexibly define agent interaction behaviors. Both natural language and computer code can be used to program flexible conversation patterns for different applications. AutoGen serves as a generic infrastructure to build diverse applications of various complexities and LLM capacities. Empirical studies demonstrate the effectiveness of the framework in many example applications, with domains ranging from mathematics, coding, question answering, operations research, online decision-making, entertainment, etc.', 'role': 'user', 'name': 'user'}, {'content': 'AutoGen is an open-source framework designed for developers to create applications using multiple large language model (LLM) agents that can interact with each other to complete tasks. These agents are customizable and can communicate using different modes, integrating LLMs, human input, and tools. Developers have the flexibility to define interaction behaviors and program conversation patterns using both natural language and computer code. AutoGen provides a versatile infrastructure for building a wide range of applications with varying complexities and LLM capabilities. Its effectiveness has been demonstrated in diverse fields such as mathematics, coding, question answering, operations research, online decision-making, and entertainment through empirical studies.', 'role': 'assistant', 'name': 'teachable_agent'}, {'content': 'I always like my summary to have three bullet points, the title, the key ideas and the key takeaways. Now, summarise this abstract: AutoGen is an open-source framework that allows developers to build LLM applications via multiple agents that can converse with each other to accomplish tasks. AutoGen agents are customizable, conversable, and can operate in various modes that employ combinations of LLMs, human inputs, and tools. Using AutoGen, developers can also flexibly define agent interaction behaviors. Both natural language and computer code can be used to program flexible conversation patterns for different applications. AutoGen serves as a generic infrastructure to build diverse applications of various complexities and LLM capacities. Empirical studies demonstrate the effectiveness of the framework in many example applications, with domains ranging from mathematics, coding, question answering, operations research, online decision-making, entertainment, etc.\\n\\n# Memories that might help\\n- AutoGen is an open-source framework that allows developers to build LLM applications via multiple agents that can converse with each other to accomplish tasks. AutoGen agents are customizable, conversable, and can operate in various modes that employ combinations of LLMs, human inputs, and tools. Using AutoGen, developers can also flexibly define agent interaction behaviors. Both natural language and computer code can be used to program flexible conversation patterns for different applications. AutoGen serves as a generic infrastructure to build diverse applications of various complexities and LLM capacities. Empirical studies demonstrate the effectiveness of the framework in many example applications, with domains ranging from mathematics, coding, question answering, operations research, online decision-making, entertainment, etc.\\n', 'role': 'user', 'name': 'user'}, {'content': \"**AutoGen Framework Overview**\\n\\n- **Key Ideas:**\\n  - AutoGen is an open-source framework designed for developing applications with large language model (LLM) agents that communicate to complete tasks.\\n  - The framework supports customizable and conversable agents that can utilize LLMs, human inputs, and tools in different operational modes.\\n  - Developers can program conversation patterns using both natural language and code, allowing flexibility in defining interaction behaviors.\\n\\n- **Key Takeaways:**\\n  - AutoGen provides a versatile infrastructure for creating diverse applications across varying complexities and LLM capabilities.\\n  - Empirical studies have demonstrated AutoGen's effectiveness in multiple domains, including mathematics, coding, question answering, operations research, online decision-making, and entertainment.\", 'role': 'assistant', 'name': 'teachable_agent'}], summary=\"**AutoGen Framework Overview**\\n\\n- **Key Ideas:**\\n  - AutoGen is an open-source framework designed for developing applications with large language model (LLM) agents that communicate to complete tasks.\\n  - The framework supports customizable and conversable agents that can utilize LLMs, human inputs, and tools in different operational modes.\\n  - Developers can program conversation patterns using both natural language and code, allowing flexibility in defining interaction behaviors.\\n\\n- **Key Takeaways:**\\n  - AutoGen provides a versatile infrastructure for creating diverse applications across varying complexities and LLM capabilities.\\n  - Empirical studies have demonstrated AutoGen's effectiveness in multiple domains, including mathematics, coding, question answering, operations research, online decision-making, and entertainment.\", cost={'usage_including_cached_inference': {'total_cost': 0.004925, 'gpt-4o-2024-08-06': {'cost': 0.004925, 'prompt_tokens': 874, 'completion_tokens': 274, 'total_tokens': 1148}}, 'usage_excluding_cached_inference': {'total_cost': 0.004925, 'gpt-4o-2024-08-06': {'cost': 0.004925, 'prompt_tokens': 874, 'completion_tokens': 274, 'total_tokens': 1148}}}, human_input=[])"
      ]
     },
     "execution_count": 5,
     "metadata": {},
     "output_type": "execute_result"
    }
   ],
   "source": [
    "# This function will return once the user types 'exit'\n",
    "teachable_agent.initiate_chat(user, message=\"Hi, I'm a teachable user assistant! What's on your mind?\")"
   ]
  },
  {
   "cell_type": "code",
   "execution_count": 8,
   "id": "6116f231",
   "metadata": {},
   "outputs": [
    {
     "name": "stdout",
     "output_type": "stream",
     "text": [
      "\u001b[33mteachable_agent\u001b[0m (to user):\n",
      "\n",
      "Hi, I'm a teachable user assistant! What's on your mind?\n",
      "\n",
      "--------------------------------------------------------------------------------\n",
      "Replying as user. Provide feedback to teachable_agent. Press enter to skip and use auto-reply, or type 'exit' to end the conversation: Please summarise: AutoGen is an open-source framework that allows developers to build LLM applications via multiple agents that can converse with each other to accomplish tasks. AutoGen agents are customizable, conversable, and can operate in various modes that employ combinations of LLMs, human inputs, and tools. Using AutoGen, developers can also flexibly define agent interaction behaviors. Both natural language and computer code can be used to program flexible conversation patterns for different applications. AutoGen serves as a generic infrastructure to build diverse applications of various complexities and LLM capacities. Empirical studies demonstrate the effectiveness of the framework in many example applications, with domains ranging from mathematics, coding, question answering, operations research, online decision-making, entertainment, etc.\n",
      "\u001b[33muser\u001b[0m (to teachable_agent):\n",
      "\n",
      "Please summarise: AutoGen is an open-source framework that allows developers to build LLM applications via multiple agents that can converse with each other to accomplish tasks. AutoGen agents are customizable, conversable, and can operate in various modes that employ combinations of LLMs, human inputs, and tools. Using AutoGen, developers can also flexibly define agent interaction behaviors. Both natural language and computer code can be used to program flexible conversation patterns for different applications. AutoGen serves as a generic infrastructure to build diverse applications of various complexities and LLM capacities. Empirical studies demonstrate the effectiveness of the framework in many example applications, with domains ranging from mathematics, coding, question answering, operations research, online decision-making, entertainment, etc.\n",
      "\n",
      "--------------------------------------------------------------------------------\n",
      "\u001b[31m\n",
      ">>>>>>>> USING AUTO REPLY...\u001b[0m\n",
      "\u001b[33mteachable_agent\u001b[0m (to user):\n",
      "\n",
      "AutoGen is an open-source framework designed to help developers create LLM applications by using multiple agents that can interact with each other to complete tasks. These agents are highly customizable and can function in different modes that integrate LLMs, human inputs, and various tools. Developers can define how agents interact and can use both natural language and code to establish flexible conversation patterns. AutoGen acts as a versatile infrastructure to support diverse applications with varying complexities and LLM capabilities. Its effectiveness has been demonstrated across many domains, like mathematics, coding, question answering, operations research, online decision-making, and entertainment.\n",
      "\n",
      "--------------------------------------------------------------------------------\n",
      "Replying as user. Provide feedback to teachable_agent. Press enter to skip and use auto-reply, or type 'exit' to end the conversation: Do you remember my preference?\n",
      "\u001b[33muser\u001b[0m (to teachable_agent):\n",
      "\n",
      "Do you remember my preference?\n",
      "\n",
      "--------------------------------------------------------------------------------\n",
      "\u001b[31m\n",
      ">>>>>>>> USING AUTO REPLY...\u001b[0m\n",
      "\u001b[33mteachable_agent\u001b[0m (to user):\n",
      "\n",
      "I'm sorry, but I don't have any record of your preferences so far. If you share what they are, I'll be sure to remember them for future interactions.\n",
      "\n",
      "--------------------------------------------------------------------------------\n",
      "Replying as user. Provide feedback to teachable_agent. Press enter to skip and use auto-reply, or type 'exit' to end the conversation: Consider the identity: 7 * 5 + 8 * 3 = 59 Can you modify exactly one integer (and not more than that!) on the left hand side of the equation so the right hand side becomes 80? Let's think step-by-step, write down a plan, and then write down your solution as: \"The solution is: A * B + C * D\".\n",
      "\u001b[33muser\u001b[0m (to teachable_agent):\n",
      "\n",
      "Consider the identity: 7 * 5 + 8 * 3 = 59 Can you modify exactly one integer (and not more than that!) on the left hand side of the equation so the right hand side becomes 80? Let's think step-by-step, write down a plan, and then write down your solution as: \"The solution is: A * B + C * D\".\n",
      "\n",
      "--------------------------------------------------------------------------------\n",
      "\u001b[31m\n",
      ">>>>>>>> USING AUTO REPLY...\u001b[0m\n",
      "\u001b[33mteachable_agent\u001b[0m (to user):\n",
      "\n",
      "To solve this problem, we need to modify exactly one integer on the left side of the equation so that the result equals 80. Let's analyze the current equation:\n",
      "\n",
      "\\[ 7 \\times 5 + 8 \\times 3 = 59 \\]\n",
      "\n",
      "First, calculate the current left side total:\n",
      "\\[ 7 \\times 5 = 35 \\]\n",
      "\\[ 8 \\times 3 = 24 \\]\n",
      "\\[ 35 + 24 = 59 \\]\n",
      "\n",
      "Now, to change the outcome to 80, we need the left-hand side to equal 80. Seeing as we have:\n",
      "\\[ 59 + x = 80  \\]\n",
      "We find: \n",
      "\\[ x = 21 \\]\n",
      "\n",
      "This means we need to increase the outcome by 21. We can do this by modifying one of the integers in the multiplication.\n",
      "\n",
      "### Plan:\n",
      "\n",
      "1. Identify which integer modification would lead directly to a total change of +21.\n",
      "\n",
      "Options:\n",
      "- Increasing 7, 5, 8, or 3 in the multiplication terms.\n",
      "- Calculate the necessary increase in one term to yield an additional 21 upon evaluation.\n",
      "\n",
      "Let's examine modifications:\n",
      "\n",
      "1. If we change 7 to something else in \\( 7 \\times 5 = 35 \\), we require:\n",
      "   \\[(7 + \\Delta) \\times 5 = 56, \\quad \\text{since } 35 + 21 = 56\\]\n",
      "   Solving for \\(\\Delta\\), we have \\( 5 \\Delta = 21 \\), therefore \\(\\Delta\\) would not be an integer here (it's 4.2).\n",
      "\n",
      "2. Change 5 to something else in \\( 7 \\times 5 = 35 \\):\n",
      "   \\[7 \\times (5 + \\Delta) = 56\\]\n",
      "   Solving for \\(\\Delta\\), we have \\(7 \\Delta = 21\\), hence \\(\\Delta = 3\\), and \\(5 + 3 = 8\\).\n",
      "\n",
      "3. Change 8 to something else in \\( 8 \\times 3 = 24\\):\n",
      "   \\[(8 + \\Delta) \\times 3 = 45\\]\n",
      "   Solving gives \\(3 \\Delta = 21\\), hence \\(\\Delta = 7\\), then \\(8 + 7 = 15\\).\n",
      "\n",
      "4. Change 3 to something else in \\( 8 \\times 3 = 24\\):\n",
      "   \\[8 \\times (3 + \\Delta) = 45\\]\n",
      "   Solving \\(\\Delta = 45/8 - 3 = 2.625\\), not an integer.\n",
      "\n",
      "We have feasible, integer solutions by altering 5 or 8. For clarity, cost-effective modification:\n",
      "\n",
      "The solution is realizing:\n",
      "\\[ 7 \\times 8 + 8 \\times 3 = 56 + 24 = 80 \\]\n",
      "\n",
      "Thus, the solution is: \\(7 \\times 8 + 8 \\times 3\\).\n",
      "\n",
      "--------------------------------------------------------------------------------\n",
      "Replying as user. Provide feedback to teachable_agent. Press enter to skip and use auto-reply, or type 'exit' to end the conversation: Consider the identity: 7 * 5 + 8 * 3 = 59 Can you modify exactly one integer (and not more than that!) on the left hand side of the equation so the right hand side becomes 80? Let's think step-by-step, write down a plan, and then write down your solution as: \"The solution is: A * B + C * D\". Here's some advice that may help: 1. Let E denote the original number on the right. 2. Let F denote the final number on the right. 3. Calculate the difference between the two, G = F - E. 4. Examine the numbers on the left one by one until finding one that divides evenly into G, where negative integers are allowed. 5. Calculate J = G / H. This is the number of times that H divides into G. 6. Verify that J is an integer, and that H * J = G. 7. Find the number on the left which is multiplied by H, and call it K. 8. Change K to K + J. 9. Recompute the value on the left, and verify that it equals F. Finally, write down your solution as: \"The solution is: A * B + C * D\".\n",
      "\u001b[33muser\u001b[0m (to teachable_agent):\n",
      "\n",
      "Consider the identity: 7 * 5 + 8 * 3 = 59 Can you modify exactly one integer (and not more than that!) on the left hand side of the equation so the right hand side becomes 80? Let's think step-by-step, write down a plan, and then write down your solution as: \"The solution is: A * B + C * D\". Here's some advice that may help: 1. Let E denote the original number on the right. 2. Let F denote the final number on the right. 3. Calculate the difference between the two, G = F - E. 4. Examine the numbers on the left one by one until finding one that divides evenly into G, where negative integers are allowed. 5. Calculate J = G / H. This is the number of times that H divides into G. 6. Verify that J is an integer, and that H * J = G. 7. Find the number on the left which is multiplied by H, and call it K. 8. Change K to K + J. 9. Recompute the value on the left, and verify that it equals F. Finally, write down your solution as: \"The solution is: A * B + C * D\".\n"
     ]
    },
    {
     "name": "stdout",
     "output_type": "stream",
     "text": [
      "\n",
      "--------------------------------------------------------------------------------\n",
      "\u001b[31m\n",
      ">>>>>>>> USING AUTO REPLY...\u001b[0m\n",
      "\u001b[33mteachable_agent\u001b[0m (to user):\n",
      "\n",
      "Let's solve the problem step-by-step using the advice provided:\n",
      "\n",
      "1. **Identify E and F**:  \n",
      "   - \\( E \\) (original number on the right) = 59\n",
      "   - \\( F \\) (final number on the right) = 80\n",
      "\n",
      "2. **Calculate the difference, G**:  \n",
      "   \\[ G = F - E = 80 - 59 = 21 \\]\n",
      "\n",
      "3. **Examine the numbers on the left**:  \n",
      "   - The equation is \\( 7 \\times 5 + 8 \\times 3 = 59 \\).\n",
      "   - The numbers involved in the multiplication are 7, 5, 8, and 3.\n",
      "\n",
      "4. **Find a number that divides G evenly**:\n",
      "   - Check 7: \\( 21/7 = 3 \\) (integer)\n",
      "   - Check 5: \\( 21/5 = 4.2 \\) (not an integer)\n",
      "   - Check 8: \\( 21/8 = 2.625 \\) (not an integer)\n",
      "   - Check 3: \\( 21/3 = 7 \\) (integer)\n",
      "\n",
      "5. **Choose an appropriate factor**:  \n",
      "   - Since both 7 and 3 divide \\( G \\) evenly, we'll choose one.\n",
      "\n",
      "6. **Calculate J (the number of times H divides into G)**:  \n",
      "   - If \\( H = 3 \\), then \\( J = G / H = 21 / 3 = 7 \\).\n",
      "\n",
      "7. **Find the number K in the equation \\( 8 \\times 3 \\)**:  \n",
      "   - Here, \\( K = 8 \\) (since 3 is multiplied by 8).\n",
      "\n",
      "8. **Change K to \\( K + J\\)**:  \n",
      "   - Change 8 to \\( 8 + 7 = 15 \\).\n",
      "\n",
      "9. **Recompute the left side**:  \n",
      "   \\[ 7 \\times 5 + 15 \\times 3 = 35 + 45 = 80 \\]\n",
      "\n",
      "The solution is: \\( 7 \\times 5 + 15 \\times 3 \\).\n",
      "\n",
      "--------------------------------------------------------------------------------\n",
      "Replying as user. Provide feedback to teachable_agent. Press enter to skip and use auto-reply, or type 'exit' to end the conversation: exit\n",
      "\u001b[31m\n",
      ">>>>>>>> TERMINATING RUN (d1a4e1fb-779e-405d-8d12-0260e8a212a6): User requested to end the conversation\u001b[0m\n"
     ]
    },
    {
     "data": {
      "text/plain": [
       "ChatResult(chat_id=None, chat_history=[{'content': \"Hi, I'm a teachable user assistant! What's on your mind?\", 'role': 'assistant', 'name': 'teachable_agent'}, {'content': 'Please summarise: AutoGen is an open-source framework that allows developers to build LLM applications via multiple agents that can converse with each other to accomplish tasks. AutoGen agents are customizable, conversable, and can operate in various modes that employ combinations of LLMs, human inputs, and tools. Using AutoGen, developers can also flexibly define agent interaction behaviors. Both natural language and computer code can be used to program flexible conversation patterns for different applications. AutoGen serves as a generic infrastructure to build diverse applications of various complexities and LLM capacities. Empirical studies demonstrate the effectiveness of the framework in many example applications, with domains ranging from mathematics, coding, question answering, operations research, online decision-making, entertainment, etc.\\n\\n# Memories that might help\\n- AutoGen is an open-source framework that allows developers to build LLM applications via multiple agents that can converse with each other to accomplish tasks. AutoGen agents are customizable, conversable, and can operate in various modes that employ combinations of LLMs, human inputs, and tools. Using AutoGen, developers can also flexibly define agent interaction behaviors. Both natural language and computer code can be used to program flexible conversation patterns for different applications. AutoGen serves as a generic infrastructure to build diverse applications of various complexities and LLM capacities. Empirical studies demonstrate the effectiveness of the framework in many example applications, with domains ranging from mathematics, coding, question answering, operations research, online decision-making, entertainment, etc.\\n', 'role': 'user', 'name': 'user'}, {'content': 'AutoGen is an open-source framework designed to help developers create LLM applications by using multiple agents that can interact with each other to complete tasks. These agents are highly customizable and can function in different modes that integrate LLMs, human inputs, and various tools. Developers can define how agents interact and can use both natural language and code to establish flexible conversation patterns. AutoGen acts as a versatile infrastructure to support diverse applications with varying complexities and LLM capabilities. Its effectiveness has been demonstrated across many domains, like mathematics, coding, question answering, operations research, online decision-making, and entertainment.', 'role': 'assistant', 'name': 'teachable_agent'}, {'content': 'Do you remember my preference?\\n\\n# Memories that might help\\n- do you remember my preference?\\n', 'role': 'user', 'name': 'user'}, {'content': \"I'm sorry, but I don't have any record of your preferences so far. If you share what they are, I'll be sure to remember them for future interactions.\", 'role': 'assistant', 'name': 'teachable_agent'}, {'content': 'Consider the identity: 7 * 5 + 8 * 3 = 59 Can you modify exactly one integer (and not more than that!) on the left hand side of the equation so the right hand side becomes 80? Let\\'s think step-by-step, write down a plan, and then write down your solution as: \"The solution is: A * B + C * D\".', 'role': 'user', 'name': 'user'}, {'content': \"To solve this problem, we need to modify exactly one integer on the left side of the equation so that the result equals 80. Let's analyze the current equation:\\n\\n\\\\[ 7 \\\\times 5 + 8 \\\\times 3 = 59 \\\\]\\n\\nFirst, calculate the current left side total:\\n\\\\[ 7 \\\\times 5 = 35 \\\\]\\n\\\\[ 8 \\\\times 3 = 24 \\\\]\\n\\\\[ 35 + 24 = 59 \\\\]\\n\\nNow, to change the outcome to 80, we need the left-hand side to equal 80. Seeing as we have:\\n\\\\[ 59 + x = 80  \\\\]\\nWe find: \\n\\\\[ x = 21 \\\\]\\n\\nThis means we need to increase the outcome by 21. We can do this by modifying one of the integers in the multiplication.\\n\\n### Plan:\\n\\n1. Identify which integer modification would lead directly to a total change of +21.\\n\\nOptions:\\n- Increasing 7, 5, 8, or 3 in the multiplication terms.\\n- Calculate the necessary increase in one term to yield an additional 21 upon evaluation.\\n\\nLet's examine modifications:\\n\\n1. If we change 7 to something else in \\\\( 7 \\\\times 5 = 35 \\\\), we require:\\n   \\\\[(7 + \\\\Delta) \\\\times 5 = 56, \\\\quad \\\\text{since } 35 + 21 = 56\\\\]\\n   Solving for \\\\(\\\\Delta\\\\), we have \\\\( 5 \\\\Delta = 21 \\\\), therefore \\\\(\\\\Delta\\\\) would not be an integer here (it's 4.2).\\n\\n2. Change 5 to something else in \\\\( 7 \\\\times 5 = 35 \\\\):\\n   \\\\[7 \\\\times (5 + \\\\Delta) = 56\\\\]\\n   Solving for \\\\(\\\\Delta\\\\), we have \\\\(7 \\\\Delta = 21\\\\), hence \\\\(\\\\Delta = 3\\\\), and \\\\(5 + 3 = 8\\\\).\\n\\n3. Change 8 to something else in \\\\( 8 \\\\times 3 = 24\\\\):\\n   \\\\[(8 + \\\\Delta) \\\\times 3 = 45\\\\]\\n   Solving gives \\\\(3 \\\\Delta = 21\\\\), hence \\\\(\\\\Delta = 7\\\\), then \\\\(8 + 7 = 15\\\\).\\n\\n4. Change 3 to something else in \\\\( 8 \\\\times 3 = 24\\\\):\\n   \\\\[8 \\\\times (3 + \\\\Delta) = 45\\\\]\\n   Solving \\\\(\\\\Delta = 45/8 - 3 = 2.625\\\\), not an integer.\\n\\nWe have feasible, integer solutions by altering 5 or 8. For clarity, cost-effective modification:\\n\\nThe solution is realizing:\\n\\\\[ 7 \\\\times 8 + 8 \\\\times 3 = 56 + 24 = 80 \\\\]\\n\\nThus, the solution is: \\\\(7 \\\\times 8 + 8 \\\\times 3\\\\).\", 'role': 'assistant', 'name': 'teachable_agent'}, {'content': 'Consider the identity: 7 * 5 + 8 * 3 = 59 Can you modify exactly one integer (and not more than that!) on the left hand side of the equation so the right hand side becomes 80? Let\\'s think step-by-step, write down a plan, and then write down your solution as: \"The solution is: A * B + C * D\". Here\\'s some advice that may help: 1. Let E denote the original number on the right. 2. Let F denote the final number on the right. 3. Calculate the difference between the two, G = F - E. 4. Examine the numbers on the left one by one until finding one that divides evenly into G, where negative integers are allowed. 5. Calculate J = G / H. This is the number of times that H divides into G. 6. Verify that J is an integer, and that H * J = G. 7. Find the number on the left which is multiplied by H, and call it K. 8. Change K to K + J. 9. Recompute the value on the left, and verify that it equals F. Finally, write down your solution as: \"The solution is: A * B + C * D\".\\n\\n# Memories that might help\\n- The solution is: A * B + C * D\\n', 'role': 'user', 'name': 'user'}, {'content': \"Let's solve the problem step-by-step using the advice provided:\\n\\n1. **Identify E and F**:  \\n   - \\\\( E \\\\) (original number on the right) = 59\\n   - \\\\( F \\\\) (final number on the right) = 80\\n\\n2. **Calculate the difference, G**:  \\n   \\\\[ G = F - E = 80 - 59 = 21 \\\\]\\n\\n3. **Examine the numbers on the left**:  \\n   - The equation is \\\\( 7 \\\\times 5 + 8 \\\\times 3 = 59 \\\\).\\n   - The numbers involved in the multiplication are 7, 5, 8, and 3.\\n\\n4. **Find a number that divides G evenly**:\\n   - Check 7: \\\\( 21/7 = 3 \\\\) (integer)\\n   - Check 5: \\\\( 21/5 = 4.2 \\\\) (not an integer)\\n   - Check 8: \\\\( 21/8 = 2.625 \\\\) (not an integer)\\n   - Check 3: \\\\( 21/3 = 7 \\\\) (integer)\\n\\n5. **Choose an appropriate factor**:  \\n   - Since both 7 and 3 divide \\\\( G \\\\) evenly, we'll choose one.\\n\\n6. **Calculate J (the number of times H divides into G)**:  \\n   - If \\\\( H = 3 \\\\), then \\\\( J = G / H = 21 / 3 = 7 \\\\).\\n\\n7. **Find the number K in the equation \\\\( 8 \\\\times 3 \\\\)**:  \\n   - Here, \\\\( K = 8 \\\\) (since 3 is multiplied by 8).\\n\\n8. **Change K to \\\\( K + J\\\\)**:  \\n   - Change 8 to \\\\( 8 + 7 = 15 \\\\).\\n\\n9. **Recompute the left side**:  \\n   \\\\[ 7 \\\\times 5 + 15 \\\\times 3 = 35 + 45 = 80 \\\\]\\n\\nThe solution is: \\\\( 7 \\\\times 5 + 15 \\\\times 3 \\\\).\", 'role': 'assistant', 'name': 'teachable_agent'}], summary=\"Let's solve the problem step-by-step using the advice provided:\\n\\n1. **Identify E and F**:  \\n   - \\\\( E \\\\) (original number on the right) = 59\\n   - \\\\( F \\\\) (final number on the right) = 80\\n\\n2. **Calculate the difference, G**:  \\n   \\\\[ G = F - E = 80 - 59 = 21 \\\\]\\n\\n3. **Examine the numbers on the left**:  \\n   - The equation is \\\\( 7 \\\\times 5 + 8 \\\\times 3 = 59 \\\\).\\n   - The numbers involved in the multiplication are 7, 5, 8, and 3.\\n\\n4. **Find a number that divides G evenly**:\\n   - Check 7: \\\\( 21/7 = 3 \\\\) (integer)\\n   - Check 5: \\\\( 21/5 = 4.2 \\\\) (not an integer)\\n   - Check 8: \\\\( 21/8 = 2.625 \\\\) (not an integer)\\n   - Check 3: \\\\( 21/3 = 7 \\\\) (integer)\\n\\n5. **Choose an appropriate factor**:  \\n   - Since both 7 and 3 divide \\\\( G \\\\) evenly, we'll choose one.\\n\\n6. **Calculate J (the number of times H divides into G)**:  \\n   - If \\\\( H = 3 \\\\), then \\\\( J = G / H = 21 / 3 = 7 \\\\).\\n\\n7. **Find the number K in the equation \\\\( 8 \\\\times 3 \\\\)**:  \\n   - Here, \\\\( K = 8 \\\\) (since 3 is multiplied by 8).\\n\\n8. **Change K to \\\\( K + J\\\\)**:  \\n   - Change 8 to \\\\( 8 + 7 = 15 \\\\).\\n\\n9. **Recompute the left side**:  \\n   \\\\[ 7 \\\\times 5 + 15 \\\\times 3 = 35 + 45 = 80 \\\\]\\n\\nThe solution is: \\\\( 7 \\\\times 5 + 15 \\\\times 3 \\\\).\", cost={'usage_including_cached_inference': {'total_cost': 0.0363, 'gpt-4o-2024-08-06': {'cost': 0.0363, 'prompt_tokens': 8044, 'completion_tokens': 1619, 'total_tokens': 9663}}, 'usage_excluding_cached_inference': {'total_cost': 0.0363, 'gpt-4o-2024-08-06': {'cost': 0.0363, 'prompt_tokens': 8044, 'completion_tokens': 1619, 'total_tokens': 9663}}}, human_input=[])"
      ]
     },
     "execution_count": 8,
     "metadata": {},
     "output_type": "execute_result"
    }
   ],
   "source": [
    "teachable_agent.initiate_chat(user, message=\"Hi, I'm a teachable user assistant! What's on your mind?\")"
   ]
  },
  {
   "cell_type": "code",
   "execution_count": null,
   "id": "353ff89e",
   "metadata": {},
   "outputs": [],
   "source": []
  }
 ],
 "metadata": {
  "kernelspec": {
   "display_name": "Python 3 (ipykernel)",
   "language": "python",
   "name": "python3"
  },
  "language_info": {
   "codemirror_mode": {
    "name": "ipython",
    "version": 3
   },
   "file_extension": ".py",
   "mimetype": "text/x-python",
   "name": "python",
   "nbconvert_exporter": "python",
   "pygments_lexer": "ipython3",
   "version": "3.11.4"
  }
 },
 "nbformat": 4,
 "nbformat_minor": 5
}
