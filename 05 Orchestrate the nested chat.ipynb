{
 "cells": [
  {
   "cell_type": "markdown",
   "id": "82c5a90f",
   "metadata": {},
   "source": [
    "## Orchestrate the nested chat"
   ]
  },
  {
   "cell_type": "code",
   "execution_count": 1,
   "id": "892590d0",
   "metadata": {},
   "outputs": [
    {
     "data": {
      "text/plain": [
       "True"
      ]
     },
     "execution_count": 1,
     "metadata": {},
     "output_type": "execute_result"
    }
   ],
   "source": [
    "## import required libraries\n",
    "import os\n",
    "from autogen import AssistantAgent, ConversableAgent, UserProxyAgent\n",
    "from dotenv import load_dotenv\n",
    "\n",
    "load_dotenv(override=True)"
   ]
  },
  {
   "cell_type": "code",
   "execution_count": 2,
   "id": "2b16162c",
   "metadata": {},
   "outputs": [],
   "source": [
    "## llm configuration\n",
    "llm_config = {\n",
    "    \"model\": \"gpt-4o\",\n",
    "    \"api_key\": os.getenv(\"OPENAI_API_KEY\")\n",
    "}"
   ]
  },
  {
   "cell_type": "markdown",
   "id": "b5df9926",
   "metadata": {},
   "source": [
    "## Writer Agent"
   ]
  },
  {
   "cell_type": "code",
   "execution_count": 3,
   "id": "2d31d945",
   "metadata": {},
   "outputs": [],
   "source": [
    "writer = AssistantAgent(\n",
    "    name=\"Writer\",\n",
    "    system_message=\"\"\"\n",
    "        You are a writer. You write engaging and concise blogpost (with title) on given topics. \n",
    "        You must polish your writing based on the feedback you receive and give a refined version.\n",
    "        Only return your final work without additional comments.\n",
    "    \"\"\",\n",
    "    llm_config=llm_config,\n",
    ")"
   ]
  },
  {
   "cell_type": "markdown",
   "id": "9d99dce4",
   "metadata": {},
   "source": [
    "## Task"
   ]
  },
  {
   "cell_type": "code",
   "execution_count": 4,
   "id": "bbe0361d",
   "metadata": {},
   "outputs": [],
   "source": [
    "task = \"Write a concise but engaging blogpost about GPUs. Make sure the blogpost is within 100 words.\""
   ]
  },
  {
   "cell_type": "code",
   "execution_count": 5,
   "id": "9578f8d5",
   "metadata": {},
   "outputs": [],
   "source": [
    "reply = writer.generate_reply(messages=[{\"content\": task, \"role\": \"user\"}])"
   ]
  },
  {
   "cell_type": "code",
   "execution_count": 6,
   "id": "470e17d5",
   "metadata": {},
   "outputs": [
    {
     "name": "stdout",
     "output_type": "stream",
     "text": [
      "**The Powerhouse of Modern Computing: GPUs**\n",
      "\n",
      "Graphics Processing Units (GPUs) have revolutionized the digital landscape beyond just rendering video game graphics. Today’s GPUs, with their parallel processing capabilities, are the unseen architects behind AI breakthroughs, cryptocurrency mining, and high-performance scientific simulations. Efficiently handling multiple tasks simultaneously, GPUs accelerate tasks that would overwhelm traditional CPUs. As technology evolves, GPUs continue to reshape industries, from powering immersive virtual reality experiences to enabling real-time data analytics. With companies like NVIDIA and AMD leading advancements, GPUs symbolize the relentless drive towards faster, smarter computing, driving innovation in surprising and transformative ways.\n"
     ]
    }
   ],
   "source": [
    "print(reply)"
   ]
  },
  {
   "cell_type": "markdown",
   "id": "bb059395",
   "metadata": {},
   "source": [
    "## Simple review of the post"
   ]
  },
  {
   "cell_type": "code",
   "execution_count": 7,
   "id": "5e3c42d7",
   "metadata": {},
   "outputs": [],
   "source": [
    "## reviewer agent\n",
    "reviewer = AssistantAgent(\n",
    "    name=\"Reviewer\",\n",
    "    is_termination_msg=lambda x:x.get(\"content\", \"\").find(\"TERMINATE\") >= 0,\n",
    "    llm_config=llm_config,\n",
    "    system_message=\"\"\"You are a reviewer. you review the work of\n",
    "                    the writer and provide constructive feedback to help imporve the quality of the content.\n",
    "    \"\"\",\n",
    ")"
   ]
  },
  {
   "cell_type": "code",
   "execution_count": 8,
   "id": "9912e067",
   "metadata": {},
   "outputs": [
    {
     "name": "stdout",
     "output_type": "stream",
     "text": [
      "\u001b[33mReviewer\u001b[0m (to Writer):\n",
      "\n",
      "Write a concise but engaging blogpost about GPUs. Make sure the blogpost is within 100 words.\n",
      "\n",
      "--------------------------------------------------------------------------------\n",
      "\u001b[33mWriter\u001b[0m (to Reviewer):\n",
      "\n",
      "**Harnessing the Power of GPUs: Revolutionizing Tech Landscapes**\n",
      "\n",
      "Graphics Processing Units (GPUs) have evolved from being niche components for gaming to pivotal drivers of technological innovation. Capable of processing parallel tasks efficiently, GPUs excel in data-intensive fields like artificial intelligence, machine learning, and data science. By offloading demanding tasks from CPUs, they unlock unprecedented speeds and capabilities. Today, industries leverage GPU power for tasks from autonomous vehicles to large-scale scientific computations. As technology advances, GPUs continue to push boundaries, offering future-ready solutions that satisfy our ever-growing computing needs, proving their indispensable role in shaping the future of digital landscapes.\n",
      "\n",
      "--------------------------------------------------------------------------------\n",
      "\u001b[33mReviewer\u001b[0m (to Writer):\n",
      "\n",
      "This is a well-written and concise blog post that effectively communicates the importance and versatility of GPUs in modern technology. However, to enhance engagement and readability, consider incorporating the following suggestions:\n",
      "\n",
      "1. **Attention-Grabbing Opening**: Begin with a hook to capture attention immediately. For example, \"In an era where speed and efficiency reign supreme, GPUs emerge as the unsung heroes transforming tech landscapes.\"\n",
      "\n",
      "2. **Simplify Technical Jargon**: For a broader audience, explaining complex terms simply can help. For example, briefly explaining what parallel processing means could make the content more accessible.\n",
      "\n",
      "3. **Use of Examples**: Adding specific examples of industries or applications can make the post more relatable and tangible. For instance, mention how GPUs contributed to breakthroughs in a popular AI project or their role in graphics-intensive video games.\n",
      "\n",
      "4. **Engage the Reader**: Prompt readers to think about or explore GPUs further. A question or call to action could stimulate interaction, like \"How are GPUs redefining the technologies you use daily?\"\n",
      "\n",
      "5. **Varied Sentences**: Mix short, impactful sentences with longer ones to rhythm the reading flow and maintain interest.\n",
      "\n",
      "Incorporating these adjustments could further enhance the blog’s engagement and clarity for readers.\n",
      "\n",
      "--------------------------------------------------------------------------------\n",
      "\u001b[33mWriter\u001b[0m (to Reviewer):\n",
      "\n",
      "**Unleashing the Unsung Heroes of Tech: GPUs**\n",
      "\n",
      "In today’s fast-paced digital era, Graphics Processing Units (GPUs) emerge as the silent game-changers revolutionizing our tech landscapes. Originally known for enhancing video games, these powerhouses now accelerate innovations in artificial intelligence, self-driving cars, and cutting-edge scientific research. Their secret? A unique ability to process complex tasks simultaneously, vastly outperforming old-school central processors. Whether driving breakthroughs in deep learning projects like OpenAI or delivering stunning visuals in blockbuster video games, GPUs are reshaping how we experience technology. How are these dynamic processors transforming the gadgets and apps you use every day? Dive in and explore the future woven by GPUs.\n",
      "\n",
      "--------------------------------------------------------------------------------\n",
      "\u001b[31m\n",
      ">>>>>>>> TERMINATING RUN (ef6be138-5a1e-440f-b8eb-46b9acbfcad0): Maximum turns (2) reached\u001b[0m\n"
     ]
    }
   ],
   "source": [
    "res = reviewer.initiate_chat(\n",
    "    recipient=writer,\n",
    "    message=task,\n",
    "    max_turns=2,\n",
    "    summary_method=\"last_msg\"\n",
    ")"
   ]
  },
  {
   "cell_type": "markdown",
   "id": "b28504d5",
   "metadata": {},
   "source": [
    "## Adding multi-level reviews using nested chats"
   ]
  },
  {
   "cell_type": "code",
   "execution_count": 22,
   "id": "b2fa70b1",
   "metadata": {},
   "outputs": [],
   "source": [
    "SEO_reviewer = AssistantAgent(\n",
    "    name=\"SEO_Reviewer\",\n",
    "    llm_config=llm_config,\n",
    "    system_message=\"As an SEO expert, your role is to analyze and enhance content for optimal search engine performance. \"\n",
    "        \"Focus on providing actionable recommendations that boost rankings and drive organic traffic. \"\n",
    "        \"Limit your feedback to 3 key points, ensuring they are specific and directly applicable. \"\n",
    "        \"Start each review by introducing yourself as an SEO Reviewer.\",\n",
    "    \n",
    "#     \"\"\"As and SEO expert, your role is to analyze and enhence content for optimal search engine performance.\n",
    "#             Focus on providing actionable recommendations that boost rankings and drive organic traffic.\n",
    "#             Limit your feedback to 3 key points, ensuring they are specific and directly applicable.\n",
    "#             Start each review by introducing yourself as an SEO Reviewer.\"\"\"\n",
    ")"
   ]
  },
  {
   "cell_type": "code",
   "execution_count": 23,
   "id": "fd64326e",
   "metadata": {},
   "outputs": [],
   "source": [
    "grammatical_error_reviewer = AssistantAgent(\n",
    "    name=\"Grammatical_Error_Reviewer\",\n",
    "    llm_config=llm_config,\n",
    "    system_message=\"As a grammar specialist, your task is to meticulously examine content \"\n",
    "        \"for grammatical errors, punctuation mistakes, and style inconsistencies. \"\n",
    "        \"Provide up to 3 key points addressing the most significant grammatical issues. \"\n",
    "        \"Ensure your feedback is specific, actionable, and includes examples where appropriate. \"\n",
    "        \"Begin each review by introducing yourself as a Grammatical Error Reviewer.\",\n",
    "    \n",
    "#     \"\"\"As a grammer specialist, your task is to meticulously examine content for grammatical errors,\n",
    "#             punctuation mistakes, and style inconsistencies. Provide up to 3 key points addressing the most \n",
    "#             significant grammatical issues. Ensure your feed back is specific, actionable, and includes examples \n",
    "#             where appropriate. Begin each review by introducing yourself as Grammatical Error Reviewer.\"\"\",\n",
    ")"
   ]
  },
  {
   "cell_type": "code",
   "execution_count": 27,
   "id": "6adda111",
   "metadata": {},
   "outputs": [],
   "source": [
    "ethics_reviewer = AssistantAgent(\n",
    "    name=\"Ethics_Reviewer\",\n",
    "    llm_config=llm_config,\n",
    "    system_message=\"As an ethics specialist, your role is to evaluate content for ethical integrity \"\n",
    "        \"and identify any potential moral concerns. \"\n",
    "        \"Provide up to 3 specific, actionable recommendations to address ethical issues. \"\n",
    "        \"Ensure your feedback is concise and directly applicable. \"\n",
    "        \"Start each review by introducing yourself as an Ethics Reviewer.\",\n",
    "    \n",
    "#     \"\"\"As an ethics specialist, your role is to evaluate content for ethical integrity and identity \n",
    "#             any potential moral concerns. Provide up to 3 specific, actionable recommendations to address ethical \n",
    "#             issues. Ensure your feedback is concise and directly applicable. Start each review by introducing yourself\n",
    "#             as an Ethics Reviewer.\"\"\",\n",
    ")"
   ]
  },
  {
   "cell_type": "code",
   "execution_count": 25,
   "id": "1c13c672",
   "metadata": {},
   "outputs": [],
   "source": [
    "meta_reviewer = AssistantAgent(\n",
    "    name=\"Meta_Reviewer\",\n",
    "    llm_config = llm_config,\n",
    "    system_message=\"You are a meta reviewer, you aggragate and review \"\n",
    "    \"the work of other reviewers and give a final suggestion on the content.\",\n",
    "    \n",
    "#     \"\"\"You are a meta reviewer, you aggragate and review the work of other reviewers and give a final suggestion on the content.\"\"\",\n",
    "    \n",
    ")"
   ]
  },
  {
   "cell_type": "markdown",
   "id": "029e98d0",
   "metadata": {},
   "source": [
    "## Orchestrating the nested chat"
   ]
  },
  {
   "cell_type": "code",
   "execution_count": 52,
   "id": "6e4484f6",
   "metadata": {},
   "outputs": [],
   "source": [
    "def reflection_message(recipient, messages, sender, config):\n",
    "    return f'''Review the following content. \n",
    "            \\n\\n {recipient.chat_messages_for_summary(sender)[-1]['content']}'''\n",
    "\n",
    "review_chats = [\n",
    "    {\n",
    "    \"recipient\": SEO_reviewer,\n",
    "    \"message\": reflection_message,\n",
    "    \"summary_method\": \"reflection_with_llm\",\n",
    "    \"summary_args\": {\"summary_prompt\" : \n",
    "                     \" Return review into as JSON object only:\"\n",
    "                     \"{'Reviewer': '', 'Review': ''}. Here Reviewer should be your role\",},\n",
    "    \"max_turns\": 1},\n",
    "    {\n",
    "        \"recipient\": grammatical_error_reviewer,\n",
    "        \"message\": reflection_message,\n",
    "        \"summary_method\": \"reflection_with_llm\",\n",
    "        \"summary_args\": {\"summary_prompt\" : \n",
    "                         \" Return review into as JSON object only:\"\n",
    "                         \"{'Reviewer': '', 'Review': ''}.\",},\n",
    "        \"max_turns\": 1\n",
    "    },\n",
    "    {\n",
    "        \"recipient\": ethicts_reviewer,\n",
    "        \"message\": reflection_message,\n",
    "        \"summary_method\": \"reflection_with_llm\",\n",
    "        \"summary_args\": {\"summary_prompt\" : \n",
    "                         \" Return review into as JSON object only:\"\n",
    "                         \" {'Reviewer': '', 'Review': ''}\",},\n",
    "        \"max_turns\": 1\n",
    "    },\n",
    "    {\n",
    "        \"recipient\": meta_reviewer,\n",
    "        \"message\": \"Aggregate feedback from all reviewers and give final suggestions on the writing.\",\n",
    "        \"max_turns\": 1},\n",
    "]"
   ]
  },
  {
   "cell_type": "code",
   "execution_count": 53,
   "id": "d2486540",
   "metadata": {},
   "outputs": [],
   "source": [
    "reviewer.register_nested_chats(\n",
    "    review_chats,\n",
    "    trigger=writer\n",
    ")"
   ]
  },
  {
   "cell_type": "code",
   "execution_count": 54,
   "id": "edabc74c",
   "metadata": {},
   "outputs": [
    {
     "name": "stdout",
     "output_type": "stream",
     "text": [
      "\u001b[33mReviewer\u001b[0m (to Writer):\n",
      "\n",
      "Write a concise but engaging blogpost about GPUs. Make sure the blogpost is within 100 words.\n",
      "\n",
      "--------------------------------------------------------------------------------\n",
      "\u001b[33mWriter\u001b[0m (to Reviewer):\n",
      "\n",
      "**The Powerhouse of Computing: Unleashing the Potential of GPUs**\n",
      "\n",
      "In the rapidly evolving realm of technology, Graphics Processing Units (GPUs) have revolutionized the way we compute, design, and innovate. Originally built to enhance gaming visuals, GPUs now drive breakthroughs across industries, from artificial intelligence to scientific simulations. Their parallel processing power enables massive data handling and accelerates machine learning algorithms, making them indispensable in modern applications. With tech giants racing to enhance GPU capabilities, we stand on the brink of unprecedented advancements. Embrace the future as GPUs redefine computing—where creativity meets efficiency at lightning speed. Welcome to the era of unparalleled possibilities.\n",
      "\n",
      "--------------------------------------------------------------------------------\n",
      "\u001b[34m\n",
      "********************************************************************************\u001b[0m\n",
      "\u001b[34mStarting a new chat....\u001b[0m\n",
      "\u001b[34m\n",
      "********************************************************************************\u001b[0m\n",
      "\u001b[33mReviewer\u001b[0m (to SEO_Reviewer):\n",
      "\n",
      "Review the following content. \n",
      "            \n",
      "\n",
      " **The Powerhouse of Computing: Unleashing the Potential of GPUs**\n",
      "\n",
      "In the rapidly evolving realm of technology, Graphics Processing Units (GPUs) have revolutionized the way we compute, design, and innovate. Originally built to enhance gaming visuals, GPUs now drive breakthroughs across industries, from artificial intelligence to scientific simulations. Their parallel processing power enables massive data handling and accelerates machine learning algorithms, making them indispensable in modern applications. With tech giants racing to enhance GPU capabilities, we stand on the brink of unprecedented advancements. Embrace the future as GPUs redefine computing—where creativity meets efficiency at lightning speed. Welcome to the era of unparalleled possibilities.\n",
      "\n",
      "--------------------------------------------------------------------------------\n",
      "\u001b[33mSEO_Reviewer\u001b[0m (to Reviewer):\n",
      "\n",
      "**SEO Reviewer**\n",
      "\n",
      "1. **Incorporate Target Keywords:**\n",
      "   To improve search engine rankings, ensure you incorporate relevant keywords throughout the content. Consider adding phrases like \"GPU advancements,\" \"parallel processing power,\" and \"machine learning acceleration\" strategically within the text to capture search intent and improve discoverability.\n",
      "\n",
      "2. **Optimize for Featured Snippets:**\n",
      "   Enhance visibility by formatting parts of your content to potentially qualify for Google's featured snippets. For example, create a concise bullet-point list or table highlighting the benefits of GPUs in various industries. This can increase the likelihood of appearing as a quick answer in SERP, driving more clicks to your content.\n",
      "\n",
      "3. **Add Internal and External Links:**\n",
      "   Boost SEO by providing both internal and external links. Internally, link to related content on your website to improve the site's navigation and encourage extended user engagement. Externally, link to authoritative sources or case studies supporting the use and impact of GPUs to enhance credibility and domain authority.\n",
      "\n",
      "--------------------------------------------------------------------------------\n",
      "\u001b[31m\n",
      ">>>>>>>> TERMINATING RUN (d30dad42-e377-44a1-8090-703ed7da83f6): Maximum turns (1) reached\u001b[0m\n",
      "\u001b[34m\n",
      "********************************************************************************\u001b[0m\n",
      "\u001b[34mStarting a new chat....\u001b[0m\n",
      "\u001b[34m\n",
      "********************************************************************************\u001b[0m\n",
      "\u001b[33mReviewer\u001b[0m (to Grammatical_Error_Reviewer):\n",
      "\n",
      "Review the following content. \n",
      "            \n",
      "\n",
      " **The Powerhouse of Computing: Unleashing the Potential of GPUs**\n",
      "\n",
      "In the rapidly evolving realm of technology, Graphics Processing Units (GPUs) have revolutionized the way we compute, design, and innovate. Originally built to enhance gaming visuals, GPUs now drive breakthroughs across industries, from artificial intelligence to scientific simulations. Their parallel processing power enables massive data handling and accelerates machine learning algorithms, making them indispensable in modern applications. With tech giants racing to enhance GPU capabilities, we stand on the brink of unprecedented advancements. Embrace the future as GPUs redefine computing—where creativity meets efficiency at lightning speed. Welcome to the era of unparalleled possibilities.\n",
      "Context: \n",
      "```json\n",
      "{\n",
      "  \"Reviewer\": \"SEO_Reviewer\",\n",
      "  \"Review\": \"1. Incorporate Target Keywords: To improve search engine rankings, ensure you incorporate relevant keywords throughout the content. Consider adding phrases like \\\"GPU advancements,\\\" \\\"parallel processing power,\\\" and \\\"machine learning acceleration\\\" strategically within the text to capture search intent and improve discoverability.\\n\\n2. Optimize for Featured Snippets: Enhance visibility by formatting parts of your content to potentially qualify for Google's featured snippets. For example, create a concise bullet-point list or table highlighting the benefits of GPUs in various industries. This can increase the likelihood of appearing as a quick answer in SERP, driving more clicks to your content.\\n\\n3. Add Internal and External Links: Boost SEO by providing both internal and external links. Internally, link to related content on your website to improve the site's navigation and encourage extended user engagement. Externally, link to authoritative sources or case studies supporting the use and impact of GPUs to enhance credibility and domain authority.\"\n",
      "}\n",
      "```\n",
      "\n",
      "--------------------------------------------------------------------------------\n",
      "\u001b[33mGrammatical_Error_Reviewer\u001b[0m (to Reviewer):\n",
      "\n",
      "**Grammatical Error Reviewer**\n",
      "\n",
      "Thank you for providing the content for review. Below are three key points highlighting the most significant grammatical aspects:\n",
      "\n",
      "1. **Subject-Verb Agreement:**\n",
      "   - The original text is largely free from subject-verb agreement issues. However, it's important to pay attention to this detail when creating complex sentences. Ensure that plural subjects have plural verbs and singular subjects have singular verbs. No corrections are needed based on the provided content, but this is a general area to keep in mind.\n",
      "\n",
      "2. **Punctuation:**\n",
      "   - The passage is nearly flawless punctuation-wise. Still, it's crucial to maintain consistency, especially with commas and dashes. For example, in the sentence \"Embrace the future as GPUs redefine computing—where creativity meets efficiency at lightning speed,\" the dash is used correctly for emphasis. Remember to use it consistently in similar future constructions.\n",
      "\n",
      "3. **Use of Relative Clauses:**\n",
      "   - The content demonstrates good use of relative clauses, which add necessary detail and clarification. For instance, in the sentence \"Originally built to enhance gaming visuals, GPUs now drive breakthroughs across industries, from artificial intelligence to scientific simulations,\" the introductory participial phrase effectively sets the stage for the clause that follows. This maintains clarity and flow in the text.\n",
      "\n",
      "Overall, the content is clear, well-structured, and maintains a professional tone without significant grammatical errors. Keep up the great work!\n",
      "\n",
      "--------------------------------------------------------------------------------\n",
      "\u001b[31m\n",
      ">>>>>>>> TERMINATING RUN (5f5a4421-66f4-48ac-8a96-49d8ce95d381): Maximum turns (1) reached\u001b[0m\n",
      "\u001b[34m\n",
      "********************************************************************************\u001b[0m\n",
      "\u001b[34mStarting a new chat....\u001b[0m\n",
      "\u001b[34m\n",
      "********************************************************************************\u001b[0m\n",
      "\u001b[33mReviewer\u001b[0m (to Ethics_Reviewer):\n",
      "\n",
      "Review the following content. \n",
      "            \n",
      "\n",
      " **The Powerhouse of Computing: Unleashing the Potential of GPUs**\n",
      "\n",
      "In the rapidly evolving realm of technology, Graphics Processing Units (GPUs) have revolutionized the way we compute, design, and innovate. Originally built to enhance gaming visuals, GPUs now drive breakthroughs across industries, from artificial intelligence to scientific simulations. Their parallel processing power enables massive data handling and accelerates machine learning algorithms, making them indispensable in modern applications. With tech giants racing to enhance GPU capabilities, we stand on the brink of unprecedented advancements. Embrace the future as GPUs redefine computing—where creativity meets efficiency at lightning speed. Welcome to the era of unparalleled possibilities.\n",
      "Context: \n",
      "```json\n",
      "{\n",
      "  \"Reviewer\": \"SEO_Reviewer\",\n",
      "  \"Review\": \"1. Incorporate Target Keywords: To improve search engine rankings, ensure you incorporate relevant keywords throughout the content. Consider adding phrases like \\\"GPU advancements,\\\" \\\"parallel processing power,\\\" and \\\"machine learning acceleration\\\" strategically within the text to capture search intent and improve discoverability.\\n\\n2. Optimize for Featured Snippets: Enhance visibility by formatting parts of your content to potentially qualify for Google's featured snippets. For example, create a concise bullet-point list or table highlighting the benefits of GPUs in various industries. This can increase the likelihood of appearing as a quick answer in SERP, driving more clicks to your content.\\n\\n3. Add Internal and External Links: Boost SEO by providing both internal and external links. Internally, link to related content on your website to improve the site's navigation and encourage extended user engagement. Externally, link to authoritative sources or case studies supporting the use and impact of GPUs to enhance credibility and domain authority.\"\n",
      "}\n",
      "```\n",
      "```json\n",
      "{\n",
      "  \"Reviewer\": \"Grammatical_Error_Reviewer\",\n",
      "  \"Review\": \"Thank you for providing the content for review. Below are three key points highlighting the most significant grammatical aspects:\\n\\n1. **Subject-Verb Agreement:**\\n   - The original text is largely free from subject-verb agreement issues. However, it's important to pay attention to this detail when creating complex sentences. Ensure that plural subjects have plural verbs and singular subjects have singular verbs. No corrections are needed based on the provided content, but this is a general area to keep in mind.\\n\\n2. **Punctuation:**\\n   - The passage is nearly flawless punctuation-wise. Still, it's crucial to maintain consistency, especially with commas and dashes. For example, in the sentence \\\"Embrace the future as GPUs redefine computing—where creativity meets efficiency at lightning speed,\\\" the dash is used correctly for emphasis. Remember to use it consistently in similar future constructions.\\n\\n3. **Use of Relative Clauses:**\\n   - The content demonstrates good use of relative clauses, which add necessary detail and clarification. For instance, in the sentence \\\"Originally built to enhance gaming visuals, GPUs now drive breakthroughs across industries, from artificial intelligence to scientific simulations,\\\" the introductory participial phrase effectively sets the stage for the clause that follows. This maintains clarity and flow in the text.\\n\\nOverall, the content is clear, well-structured, and maintains a professional tone without significant grammatical errors. Keep up the great work!\"\n",
      "}\n",
      "```\n"
     ]
    },
    {
     "name": "stdout",
     "output_type": "stream",
     "text": [
      "\n",
      "--------------------------------------------------------------------------------\n",
      "\u001b[33mEthics_Reviewer\u001b[0m (to Reviewer):\n",
      "\n",
      "Ethics Reviewer:\n",
      "\n",
      "The content primarily discusses the role and advancements of Graphics Processing Units (GPUs) within the tech industry. Upon reviewing for ethical concerns, the article upholds a neutral informative stance, focusing on technological innovation without apparent biases or moral conflicts. However, as technology impacts society significantly, even technical articles could include broader ethical considerations. Here are some recommendations:\n",
      "\n",
      "1. **Address Environmental Impact:**\n",
      "   - While highlighting GPU advancements, include a section on their environmental footprint. GPUs, like other tech hardware, contribute to energy consumption and electronic waste. Encouraging sustainable practices and discussing efforts to mitigate these impacts can promote ethical awareness.\n",
      "\n",
      "2. **Consider Societal Implications:**\n",
      "   - Expand the discussion to reflect on the societal implications of GPU-driven technologies such as AI and machine learning. This could involve addressing topics such as job displacement, privacy concerns, and decision-making biases, providing a well-rounded view of technological advancements.\n",
      "\n",
      "3. **Promote Diverse Narratives:**\n",
      "   - Encourage inclusion by featuring voices or perspectives from a diverse range of experts and users about the impact of GPU technology across different communities. This can ensure the content represents a broader range of experiences and societal impacts, thus promoting equality and diversity in tech discourse.\n",
      "\n",
      "--------------------------------------------------------------------------------\n",
      "\u001b[31m\n",
      ">>>>>>>> TERMINATING RUN (c6911fa0-ef4c-4efe-9caf-7368d4a6052c): Maximum turns (1) reached\u001b[0m\n",
      "\u001b[34m\n",
      "********************************************************************************\u001b[0m\n",
      "\u001b[34mStarting a new chat....\u001b[0m\n",
      "\u001b[34m\n",
      "********************************************************************************\u001b[0m\n",
      "\u001b[33mReviewer\u001b[0m (to Meta_Reviewer):\n",
      "\n",
      "Aggregate feedback from all reviewers and give final suggestions on the writing.\n",
      "Context: \n",
      "```json\n",
      "{\n",
      "  \"Reviewer\": \"SEO_Reviewer\",\n",
      "  \"Review\": \"1. Incorporate Target Keywords: To improve search engine rankings, ensure you incorporate relevant keywords throughout the content. Consider adding phrases like \\\"GPU advancements,\\\" \\\"parallel processing power,\\\" and \\\"machine learning acceleration\\\" strategically within the text to capture search intent and improve discoverability.\\n\\n2. Optimize for Featured Snippets: Enhance visibility by formatting parts of your content to potentially qualify for Google's featured snippets. For example, create a concise bullet-point list or table highlighting the benefits of GPUs in various industries. This can increase the likelihood of appearing as a quick answer in SERP, driving more clicks to your content.\\n\\n3. Add Internal and External Links: Boost SEO by providing both internal and external links. Internally, link to related content on your website to improve the site's navigation and encourage extended user engagement. Externally, link to authoritative sources or case studies supporting the use and impact of GPUs to enhance credibility and domain authority.\"\n",
      "}\n",
      "```\n",
      "```json\n",
      "{\n",
      "  \"Reviewer\": \"Grammatical_Error_Reviewer\",\n",
      "  \"Review\": \"Thank you for providing the content for review. Below are three key points highlighting the most significant grammatical aspects:\\n\\n1. **Subject-Verb Agreement:**\\n   - The original text is largely free from subject-verb agreement issues. However, it's important to pay attention to this detail when creating complex sentences. Ensure that plural subjects have plural verbs and singular subjects have singular verbs. No corrections are needed based on the provided content, but this is a general area to keep in mind.\\n\\n2. **Punctuation:**\\n   - The passage is nearly flawless punctuation-wise. Still, it's crucial to maintain consistency, especially with commas and dashes. For example, in the sentence \\\"Embrace the future as GPUs redefine computing—where creativity meets efficiency at lightning speed,\\\" the dash is used correctly for emphasis. Remember to use it consistently in similar future constructions.\\n\\n3. **Use of Relative Clauses:**\\n   - The content demonstrates good use of relative clauses, which add necessary detail and clarification. For instance, in the sentence \\\"Originally built to enhance gaming visuals, GPUs now drive breakthroughs across industries, from artificial intelligence to scientific simulations,\\\" the introductory participial phrase effectively sets the stage for the clause that follows. This maintains clarity and flow in the text.\\n\\nOverall, the content is clear, well-structured, and maintains a professional tone without significant grammatical errors. Keep up the great work!\"\n",
      "}\n",
      "```\n",
      "```json\n",
      "{\n",
      "  \"Reviewer\": \"Ethics_Reviewer\",\n",
      "  \"Review\": \"The content primarily discusses the role and advancements of Graphics Processing Units (GPUs) within the tech industry. Upon reviewing for ethical concerns, the article upholds a neutral informative stance, focusing on technological innovation without apparent biases or moral conflicts. However, as technology impacts society significantly, even technical articles could include broader ethical considerations. Here are some recommendations:\\n\\n1. **Address Environmental Impact:**\\n   - While highlighting GPU advancements, include a section on their environmental footprint. GPUs, like other tech hardware, contribute to energy consumption and electronic waste. Encouraging sustainable practices and discussing efforts to mitigate these impacts can promote ethical awareness.\\n\\n2. **Consider Societal Implications:**\\n   - Expand the discussion to reflect on the societal implications of GPU-driven technologies such as AI and machine learning. This could involve addressing topics such as job displacement, privacy concerns, and decision-making biases, providing a well-rounded view of technological advancements.\\n\\n3. **Promote Diverse Narratives:**\\n   - Encourage inclusion by featuring voices or perspectives from a diverse range of experts and users about the impact of GPU technology across different communities. This can ensure the content represents a broader range of experiences and societal impacts, thus promoting equality and diversity in tech discourse.\"\n",
      "}\n",
      "```\n",
      "\n",
      "--------------------------------------------------------------------------------\n",
      "\u001b[33mMeta_Reviewer\u001b[0m (to Reviewer):\n",
      "\n",
      "Based on the aggregate feedback from the reviewers, here are the final suggestions to enhance the content:\n",
      "\n",
      "### SEO Recommendations\n",
      "1. **Incorporate Target Keywords**: It is crucial to sprinkle relevant keywords throughout the content judiciously. Phrases such as \"GPU advancements,\" \"parallel processing power,\" and \"machine learning acceleration\" should be included to target specific search intents and improve the discoverability of the article.\n",
      "\n",
      "2. **Optimize for Featured Snippets**: Structure the content to qualify for Google's featured snippets by including concise lists or tables that summarize key information. This approach can increase the likelihood of better visibility and click-through rates by standing out in search engine results pages (SERPs).\n",
      "\n",
      "3. **Add Internal and External Links**: Enhance the content’s SEO value by including both internal links to related content on your website, thereby improving site navigation, and external links to authoritative sources that can add credibility to the narrative.\n",
      "\n",
      "### Grammatical and Structural Feedback\n",
      "1. **Maintain Excellent Subject-Verb Agreement**: Although current sentences are correctly formatted, maintaining vigilance in matching subjects and verbs in complex structures is advised for coherence and professionalism.\n",
      "\n",
      "2. **Consistent Punctuation Use**: While punctuation is currently well-managed, ensure consistency, especially with punctuation marks like commas and dashes, for a polished and professional presentation.\n",
      "\n",
      "3. **Effective Use of Relative Clauses**: Continue to employ relative clauses to add clarity and detail to the content, ensuring the flow and maintainability of a professional and engaging narrative.\n",
      "\n",
      "### Ethical Considerations\n",
      "1. **Environmental Impact**: Introduce a discussion on the environmental implications of GPU production and use, focusing on energy consumption and electronic waste. Providing insights into sustainable practices can enhance the ethical depth of the content.\n",
      "\n",
      "2. **Societal Implications**: Discuss the broader societal impacts of GPU technology, such as AI and machine learning, addressing potential issues such as job displacement, privacy concerns, and decision-making biases.\n",
      "\n",
      "3. **Diverse Narratives**: Encourage inclusivity by including diverse perspectives and expert opinions on the impact of GPU technology. This approach can enrich the content by showcasing a wider range of experiences and societal effects, promoting inclusivity in tech conversations.\n",
      "\n",
      "### Final Suggestion\n",
      "Overall, the content is well-structured, informative, and technically sound with minor improvements needed in SEO optimization and ethical breadth. By integrating these suggestions, the content will enhance its discoverability, maintain grammatical excellence, and provide a more ethically comprehensive and inclusive narrative.\n"
     ]
    },
    {
     "name": "stdout",
     "output_type": "stream",
     "text": [
      "\n",
      "--------------------------------------------------------------------------------\n",
      "\u001b[31m\n",
      ">>>>>>>> TERMINATING RUN (ef8e0db5-93a2-4987-b63c-c0ba9cca2391): Maximum turns (1) reached\u001b[0m\n",
      "\u001b[33mReviewer\u001b[0m (to Writer):\n",
      "\n",
      "Based on the aggregate feedback from the reviewers, here are the final suggestions to enhance the content:\n",
      "\n",
      "### SEO Recommendations\n",
      "1. **Incorporate Target Keywords**: It is crucial to sprinkle relevant keywords throughout the content judiciously. Phrases such as \"GPU advancements,\" \"parallel processing power,\" and \"machine learning acceleration\" should be included to target specific search intents and improve the discoverability of the article.\n",
      "\n",
      "2. **Optimize for Featured Snippets**: Structure the content to qualify for Google's featured snippets by including concise lists or tables that summarize key information. This approach can increase the likelihood of better visibility and click-through rates by standing out in search engine results pages (SERPs).\n",
      "\n",
      "3. **Add Internal and External Links**: Enhance the content’s SEO value by including both internal links to related content on your website, thereby improving site navigation, and external links to authoritative sources that can add credibility to the narrative.\n",
      "\n",
      "### Grammatical and Structural Feedback\n",
      "1. **Maintain Excellent Subject-Verb Agreement**: Although current sentences are correctly formatted, maintaining vigilance in matching subjects and verbs in complex structures is advised for coherence and professionalism.\n",
      "\n",
      "2. **Consistent Punctuation Use**: While punctuation is currently well-managed, ensure consistency, especially with punctuation marks like commas and dashes, for a polished and professional presentation.\n",
      "\n",
      "3. **Effective Use of Relative Clauses**: Continue to employ relative clauses to add clarity and detail to the content, ensuring the flow and maintainability of a professional and engaging narrative.\n",
      "\n",
      "### Ethical Considerations\n",
      "1. **Environmental Impact**: Introduce a discussion on the environmental implications of GPU production and use, focusing on energy consumption and electronic waste. Providing insights into sustainable practices can enhance the ethical depth of the content.\n",
      "\n",
      "2. **Societal Implications**: Discuss the broader societal impacts of GPU technology, such as AI and machine learning, addressing potential issues such as job displacement, privacy concerns, and decision-making biases.\n",
      "\n",
      "3. **Diverse Narratives**: Encourage inclusivity by including diverse perspectives and expert opinions on the impact of GPU technology. This approach can enrich the content by showcasing a wider range of experiences and societal effects, promoting inclusivity in tech conversations.\n",
      "\n",
      "### Final Suggestion\n",
      "Overall, the content is well-structured, informative, and technically sound with minor improvements needed in SEO optimization and ethical breadth. By integrating these suggestions, the content will enhance its discoverability, maintain grammatical excellence, and provide a more ethically comprehensive and inclusive narrative.\n",
      "\n",
      "--------------------------------------------------------------------------------\n",
      "\u001b[33mWriter\u001b[0m (to Reviewer):\n",
      "\n",
      "**The Powerhouse of Computing: Unleashing the Potential of GPUs**\n",
      "\n",
      "In today's tech-driven world, Graphics Processing Units (GPUs) are pivotal in transforming computing landscapes. Initially designed for gaming graphics, GPUs now spearhead innovations, driving GPU advancements in artificial intelligence and accelerating machine learning algorithms. Their parallel processing power manages vast data with remarkable efficiency. Amidst growing concerns about energy consumption and electronic waste, the industry explores sustainable solutions to minimize environmental impact. As we harness this technology, it's crucial to address societal implications such as job displacement and privacy concerns. The future of computing lies in GPUs, where technology meets ethical responsibility and creativity flourishes.\n",
      "\n",
      "--------------------------------------------------------------------------------\n",
      "\u001b[31m\n",
      ">>>>>>>> TERMINATING RUN (408037c8-9c76-4b28-ad72-23e9a7b33fc6): Maximum turns (2) reached\u001b[0m\n"
     ]
    }
   ],
   "source": [
    "res = reviewer.initiate_chat(\n",
    "    recipient = writer,\n",
    "    message=task,\n",
    "    max_turns=2,\n",
    "    summary_method=\"last_msg\"\n",
    ")"
   ]
  },
  {
   "cell_type": "markdown",
   "id": "2312eb1a",
   "metadata": {},
   "source": [
    "## Get summary"
   ]
  },
  {
   "cell_type": "code",
   "execution_count": 55,
   "id": "072cc65b",
   "metadata": {},
   "outputs": [
    {
     "name": "stdout",
     "output_type": "stream",
     "text": [
      "**The Powerhouse of Computing: Unleashing the Potential of GPUs**\n",
      "\n",
      "In today's tech-driven world, Graphics Processing Units (GPUs) are pivotal in transforming computing landscapes. Initially designed for gaming graphics, GPUs now spearhead innovations, driving GPU advancements in artificial intelligence and accelerating machine learning algorithms. Their parallel processing power manages vast data with remarkable efficiency. Amidst growing concerns about energy consumption and electronic waste, the industry explores sustainable solutions to minimize environmental impact. As we harness this technology, it's crucial to address societal implications such as job displacement and privacy concerns. The future of computing lies in GPUs, where technology meets ethical responsibility and creativity flourishes.\n"
     ]
    }
   ],
   "source": [
    "print(res.summary)"
   ]
  },
  {
   "cell_type": "code",
   "execution_count": null,
   "id": "5e856f7b",
   "metadata": {},
   "outputs": [],
   "source": []
  }
 ],
 "metadata": {
  "kernelspec": {
   "display_name": "Python 3 (ipykernel)",
   "language": "python",
   "name": "python3"
  },
  "language_info": {
   "codemirror_mode": {
    "name": "ipython",
    "version": 3
   },
   "file_extension": ".py",
   "mimetype": "text/x-python",
   "name": "python",
   "nbconvert_exporter": "python",
   "pygments_lexer": "ipython3",
   "version": "3.11.4"
  }
 },
 "nbformat": 4,
 "nbformat_minor": 5
}
